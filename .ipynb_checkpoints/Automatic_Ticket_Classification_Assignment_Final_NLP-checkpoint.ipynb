{
 "cells": [
  {
   "cell_type": "markdown",
   "metadata": {
    "id": "rhR-ZUkwJrFn"
   },
   "source": [
    "## Problem Statement \n",
    "\n",
    "You need to build a model that is able to classify customer complaints based on the products/services. By doing so, you can segregate these tickets into their relevant categories and, therefore, help in the quick resolution of the issue.\n",
    "\n",
    "You will be doing topic modelling on the <b>.json</b> data provided by the company. Since this data is not labelled, you need to apply NMF to analyse patterns and classify tickets into the following five clusters based on their products/services:\n",
    "\n",
    "* Credit card / Prepaid card\n",
    "\n",
    "* Bank account services\n",
    "\n",
    "* Theft/Dispute reporting\n",
    "\n",
    "* Mortgages/loans\n",
    "\n",
    "* Others \n",
    "\n",
    "\n",
    "With the help of topic modelling, you will be able to map each ticket onto its respective department/category. You can then use this data to train any supervised model such as logistic regression, decision tree or random forest. Using this trained model, you can classify any new customer complaint support ticket into its relevant department."
   ]
  },
  {
   "cell_type": "markdown",
   "metadata": {
    "id": "mcgXVNyaLUFS"
   },
   "source": [
    "## Pipelines that needs to be performed:\n",
    "\n",
    "You need to perform the following eight major tasks to complete the assignment:\n",
    "\n",
    "1.  Data loading\n",
    "\n",
    "2. Text preprocessing\n",
    "\n",
    "3. Exploratory data analysis (EDA)\n",
    "\n",
    "4. Feature extraction\n",
    "\n",
    "5. Topic modelling \n",
    "\n",
    "6. Model building using supervised learning\n",
    "\n",
    "7. Model training and evaluation\n",
    "\n",
    "8. Model inference"
   ]
  },
  {
   "cell_type": "code",
   "execution_count": 1,
   "metadata": {
    "colab": {
     "base_uri": "https://localhost:8080/"
    },
    "executionInfo": {
     "elapsed": 20579,
     "status": "ok",
     "timestamp": 1662891541791,
     "user": {
      "displayName": "mihir mihirpawar",
      "userId": "09074568654888452491"
     },
     "user_tz": -330
    },
    "id": "9RpkrnHx6dDt",
    "outputId": "07abdbbc-2c33-4c32-fcc7-f3ca710c6be2"
   },
   "outputs": [],
   "source": [
    "# from google.colab import drive\n",
    "# drive.mount('/content/drive')"
   ]
  },
  {
   "cell_type": "code",
   "execution_count": 2,
   "metadata": {
    "executionInfo": {
     "elapsed": 407,
     "status": "ok",
     "timestamp": 1662891544042,
     "user": {
      "displayName": "mihir mihirpawar",
      "userId": "09074568654888452491"
     },
     "user_tz": -330
    },
    "id": "jDbNGKdi6ow1"
   },
   "outputs": [],
   "source": [
    "# pythonpath=r'/content/drive/MyDrive/pgdm_aiml_projects/Automatic Ticket Classification Assignment/'"
   ]
  },
  {
   "cell_type": "markdown",
   "metadata": {
    "id": "JuLFIymAL58u"
   },
   "source": [
    "## Importing the necessary libraries"
   ]
  },
  {
   "cell_type": "code",
   "execution_count": 3,
   "metadata": {
    "executionInfo": {
     "elapsed": 553,
     "status": "ok",
     "timestamp": 1662891545983,
     "user": {
      "displayName": "mihir mihirpawar",
      "userId": "09074568654888452491"
     },
     "user_tz": -330
    },
    "id": "O-Q9pqrcJrFr"
   },
   "outputs": [],
   "source": [
    "import json \n",
    "import numpy as np\n",
    "import pandas as pd\n",
    "import seaborn as sns\n",
    "import matplotlib.pyplot as plt\n",
    "%matplotlib inline"
   ]
  },
  {
   "cell_type": "code",
   "execution_count": 4,
   "metadata": {
    "executionInfo": {
     "elapsed": 11160,
     "status": "ok",
     "timestamp": 1662891557142,
     "user": {
      "displayName": "mihir mihirpawar",
      "userId": "09074568654888452491"
     },
     "user_tz": -330
    },
    "id": "_50X62TV6yb_"
   },
   "outputs": [],
   "source": [
    "# Libraries for text preprocessing and analysis\n",
    "import re,nltk,spacy,string\n",
    "nlp=spacy.load(\"en_core_web_sm\")\n",
    "from sklearn.feature_extraction.text import CountVectorizer, TfidfVectorizer, TfidfTransformer\n",
    "from sklearn.decomposition import NMF\n",
    "from nltk.stem import WordNetLemmatizer\n",
    "from textblob import TextBlob\n",
    "from wordcloud import WordCloud, STOPWORDS"
   ]
  },
  {
   "cell_type": "code",
   "execution_count": 5,
   "metadata": {
    "executionInfo": {
     "elapsed": 34,
     "status": "ok",
     "timestamp": 1662891557142,
     "user": {
      "displayName": "mihir mihirpawar",
      "userId": "09074568654888452491"
     },
     "user_tz": -330
    },
    "id": "2ZlOweDx6yeF"
   },
   "outputs": [],
   "source": [
    "# Libraries for model evaluation metrics\n",
    "from sklearn.model_selection import train_test_split, GridSearchCV, RandomizedSearchCV\n",
    "from sklearn.metrics import confusion_matrix, f1_score, classification_report"
   ]
  },
  {
   "cell_type": "code",
   "execution_count": 6,
   "metadata": {
    "executionInfo": {
     "elapsed": 31,
     "status": "ok",
     "timestamp": 1662891557143,
     "user": {
      "displayName": "mihir mihirpawar",
      "userId": "09074568654888452491"
     },
     "user_tz": -330
    },
    "id": "KJHye_ma6302"
   },
   "outputs": [],
   "source": [
    "#Remove warnings\n",
    "import warnings\n",
    "warnings.filterwarnings('ignore')"
   ]
  },
  {
   "cell_type": "markdown",
   "metadata": {
    "id": "KtRLCsNVJrFt"
   },
   "source": [
    "## Loading the data\n",
    "\n",
    "The data is in JSON format and we need to convert it to a dataframe."
   ]
  },
  {
   "cell_type": "code",
   "execution_count": 7,
   "metadata": {
    "executionInfo": {
     "elapsed": 3670,
     "status": "ok",
     "timestamp": 1662891563556,
     "user": {
      "displayName": "mihir mihirpawar",
      "userId": "09074568654888452491"
     },
     "user_tz": -330
    },
    "id": "puVzIf_iJrFt"
   },
   "outputs": [],
   "source": [
    "# Opening JSON file \n",
    "# f = open(pythonpath+'complaints.json')\n",
    "f = open('complaints.json')\n",
    "  \n",
    "# returns JSON object as  \n",
    "# a dictionary \n",
    "data = json.load(f)\n",
    "df=pd.json_normalize(data)"
   ]
  },
  {
   "cell_type": "markdown",
   "metadata": {
    "id": "_xYpH-sAJrFu"
   },
   "source": [
    "## Data preparation"
   ]
  },
  {
   "cell_type": "code",
   "execution_count": 8,
   "metadata": {
    "colab": {
     "base_uri": "https://localhost:8080/",
     "height": 456
    },
    "executionInfo": {
     "elapsed": 410,
     "status": "ok",
     "timestamp": 1662891568132,
     "user": {
      "displayName": "mihir mihirpawar",
      "userId": "09074568654888452491"
     },
     "user_tz": -330
    },
    "id": "Lf8ufHH5JrFu",
    "outputId": "7ef24b56-16aa-4fc0-8db7-ab9d0b960c81"
   },
   "outputs": [
    {
     "data": {
      "text/html": [
       "<div>\n",
       "<style scoped>\n",
       "    .dataframe tbody tr th:only-of-type {\n",
       "        vertical-align: middle;\n",
       "    }\n",
       "\n",
       "    .dataframe tbody tr th {\n",
       "        vertical-align: top;\n",
       "    }\n",
       "\n",
       "    .dataframe thead th {\n",
       "        text-align: right;\n",
       "    }\n",
       "</style>\n",
       "<table border=\"1\" class=\"dataframe\">\n",
       "  <thead>\n",
       "    <tr style=\"text-align: right;\">\n",
       "      <th></th>\n",
       "      <th>_index</th>\n",
       "      <th>_type</th>\n",
       "      <th>_id</th>\n",
       "      <th>_score</th>\n",
       "      <th>_source.tags</th>\n",
       "      <th>_source.zip_code</th>\n",
       "      <th>_source.complaint_id</th>\n",
       "      <th>_source.issue</th>\n",
       "      <th>_source.date_received</th>\n",
       "      <th>_source.state</th>\n",
       "      <th>...</th>\n",
       "      <th>_source.company_response</th>\n",
       "      <th>_source.company</th>\n",
       "      <th>_source.submitted_via</th>\n",
       "      <th>_source.date_sent_to_company</th>\n",
       "      <th>_source.company_public_response</th>\n",
       "      <th>_source.sub_product</th>\n",
       "      <th>_source.timely</th>\n",
       "      <th>_source.complaint_what_happened</th>\n",
       "      <th>_source.sub_issue</th>\n",
       "      <th>_source.consumer_consent_provided</th>\n",
       "    </tr>\n",
       "  </thead>\n",
       "  <tbody>\n",
       "    <tr>\n",
       "      <th>0</th>\n",
       "      <td>complaint-public-v2</td>\n",
       "      <td>complaint</td>\n",
       "      <td>3211475</td>\n",
       "      <td>0.0</td>\n",
       "      <td>None</td>\n",
       "      <td>90301</td>\n",
       "      <td>3211475</td>\n",
       "      <td>Attempts to collect debt not owed</td>\n",
       "      <td>2019-04-13T12:00:00-05:00</td>\n",
       "      <td>CA</td>\n",
       "      <td>...</td>\n",
       "      <td>Closed with explanation</td>\n",
       "      <td>JPMORGAN CHASE &amp; CO.</td>\n",
       "      <td>Web</td>\n",
       "      <td>2019-04-13T12:00:00-05:00</td>\n",
       "      <td>None</td>\n",
       "      <td>Credit card debt</td>\n",
       "      <td>Yes</td>\n",
       "      <td></td>\n",
       "      <td>Debt is not yours</td>\n",
       "      <td>Consent not provided</td>\n",
       "    </tr>\n",
       "    <tr>\n",
       "      <th>1</th>\n",
       "      <td>complaint-public-v2</td>\n",
       "      <td>complaint</td>\n",
       "      <td>3229299</td>\n",
       "      <td>0.0</td>\n",
       "      <td>Servicemember</td>\n",
       "      <td>319XX</td>\n",
       "      <td>3229299</td>\n",
       "      <td>Written notification about debt</td>\n",
       "      <td>2019-05-01T12:00:00-05:00</td>\n",
       "      <td>GA</td>\n",
       "      <td>...</td>\n",
       "      <td>Closed with explanation</td>\n",
       "      <td>JPMORGAN CHASE &amp; CO.</td>\n",
       "      <td>Web</td>\n",
       "      <td>2019-05-01T12:00:00-05:00</td>\n",
       "      <td>None</td>\n",
       "      <td>Credit card debt</td>\n",
       "      <td>Yes</td>\n",
       "      <td>Good morning my name is XXXX XXXX and I apprec...</td>\n",
       "      <td>Didn't receive enough information to verify debt</td>\n",
       "      <td>Consent provided</td>\n",
       "    </tr>\n",
       "    <tr>\n",
       "      <th>2</th>\n",
       "      <td>complaint-public-v2</td>\n",
       "      <td>complaint</td>\n",
       "      <td>3199379</td>\n",
       "      <td>0.0</td>\n",
       "      <td>None</td>\n",
       "      <td>77069</td>\n",
       "      <td>3199379</td>\n",
       "      <td>Other features, terms, or problems</td>\n",
       "      <td>2019-04-02T12:00:00-05:00</td>\n",
       "      <td>TX</td>\n",
       "      <td>...</td>\n",
       "      <td>Closed with explanation</td>\n",
       "      <td>JPMORGAN CHASE &amp; CO.</td>\n",
       "      <td>Web</td>\n",
       "      <td>2019-04-02T12:00:00-05:00</td>\n",
       "      <td>None</td>\n",
       "      <td>General-purpose credit card or charge card</td>\n",
       "      <td>Yes</td>\n",
       "      <td>I upgraded my XXXX XXXX card in XX/XX/2018 and...</td>\n",
       "      <td>Problem with rewards from credit card</td>\n",
       "      <td>Consent provided</td>\n",
       "    </tr>\n",
       "    <tr>\n",
       "      <th>3</th>\n",
       "      <td>complaint-public-v2</td>\n",
       "      <td>complaint</td>\n",
       "      <td>2673060</td>\n",
       "      <td>0.0</td>\n",
       "      <td>None</td>\n",
       "      <td>48066</td>\n",
       "      <td>2673060</td>\n",
       "      <td>Trouble during payment process</td>\n",
       "      <td>2017-09-13T12:00:00-05:00</td>\n",
       "      <td>MI</td>\n",
       "      <td>...</td>\n",
       "      <td>Closed with explanation</td>\n",
       "      <td>JPMORGAN CHASE &amp; CO.</td>\n",
       "      <td>Web</td>\n",
       "      <td>2017-09-14T12:00:00-05:00</td>\n",
       "      <td>None</td>\n",
       "      <td>Conventional home mortgage</td>\n",
       "      <td>Yes</td>\n",
       "      <td></td>\n",
       "      <td>None</td>\n",
       "      <td>Consent not provided</td>\n",
       "    </tr>\n",
       "    <tr>\n",
       "      <th>4</th>\n",
       "      <td>complaint-public-v2</td>\n",
       "      <td>complaint</td>\n",
       "      <td>3203545</td>\n",
       "      <td>0.0</td>\n",
       "      <td>None</td>\n",
       "      <td>10473</td>\n",
       "      <td>3203545</td>\n",
       "      <td>Fees or interest</td>\n",
       "      <td>2019-04-05T12:00:00-05:00</td>\n",
       "      <td>NY</td>\n",
       "      <td>...</td>\n",
       "      <td>Closed with explanation</td>\n",
       "      <td>JPMORGAN CHASE &amp; CO.</td>\n",
       "      <td>Referral</td>\n",
       "      <td>2019-04-05T12:00:00-05:00</td>\n",
       "      <td>None</td>\n",
       "      <td>General-purpose credit card or charge card</td>\n",
       "      <td>Yes</td>\n",
       "      <td></td>\n",
       "      <td>Charged too much interest</td>\n",
       "      <td>N/A</td>\n",
       "    </tr>\n",
       "  </tbody>\n",
       "</table>\n",
       "<p>5 rows × 22 columns</p>\n",
       "</div>"
      ],
      "text/plain": [
       "                _index      _type      _id  _score   _source.tags  \\\n",
       "0  complaint-public-v2  complaint  3211475     0.0           None   \n",
       "1  complaint-public-v2  complaint  3229299     0.0  Servicemember   \n",
       "2  complaint-public-v2  complaint  3199379     0.0           None   \n",
       "3  complaint-public-v2  complaint  2673060     0.0           None   \n",
       "4  complaint-public-v2  complaint  3203545     0.0           None   \n",
       "\n",
       "  _source.zip_code _source.complaint_id                       _source.issue  \\\n",
       "0            90301              3211475   Attempts to collect debt not owed   \n",
       "1            319XX              3229299     Written notification about debt   \n",
       "2            77069              3199379  Other features, terms, or problems   \n",
       "3            48066              2673060      Trouble during payment process   \n",
       "4            10473              3203545                    Fees or interest   \n",
       "\n",
       "       _source.date_received _source.state  ... _source.company_response  \\\n",
       "0  2019-04-13T12:00:00-05:00            CA  ...  Closed with explanation   \n",
       "1  2019-05-01T12:00:00-05:00            GA  ...  Closed with explanation   \n",
       "2  2019-04-02T12:00:00-05:00            TX  ...  Closed with explanation   \n",
       "3  2017-09-13T12:00:00-05:00            MI  ...  Closed with explanation   \n",
       "4  2019-04-05T12:00:00-05:00            NY  ...  Closed with explanation   \n",
       "\n",
       "        _source.company _source.submitted_via _source.date_sent_to_company  \\\n",
       "0  JPMORGAN CHASE & CO.                   Web    2019-04-13T12:00:00-05:00   \n",
       "1  JPMORGAN CHASE & CO.                   Web    2019-05-01T12:00:00-05:00   \n",
       "2  JPMORGAN CHASE & CO.                   Web    2019-04-02T12:00:00-05:00   \n",
       "3  JPMORGAN CHASE & CO.                   Web    2017-09-14T12:00:00-05:00   \n",
       "4  JPMORGAN CHASE & CO.              Referral    2019-04-05T12:00:00-05:00   \n",
       "\n",
       "  _source.company_public_response                         _source.sub_product  \\\n",
       "0                            None                            Credit card debt   \n",
       "1                            None                            Credit card debt   \n",
       "2                            None  General-purpose credit card or charge card   \n",
       "3                            None                  Conventional home mortgage   \n",
       "4                            None  General-purpose credit card or charge card   \n",
       "\n",
       "  _source.timely                    _source.complaint_what_happened  \\\n",
       "0            Yes                                                      \n",
       "1            Yes  Good morning my name is XXXX XXXX and I apprec...   \n",
       "2            Yes  I upgraded my XXXX XXXX card in XX/XX/2018 and...   \n",
       "3            Yes                                                      \n",
       "4            Yes                                                      \n",
       "\n",
       "                                  _source.sub_issue  \\\n",
       "0                                 Debt is not yours   \n",
       "1  Didn't receive enough information to verify debt   \n",
       "2             Problem with rewards from credit card   \n",
       "3                                              None   \n",
       "4                         Charged too much interest   \n",
       "\n",
       "  _source.consumer_consent_provided  \n",
       "0              Consent not provided  \n",
       "1                  Consent provided  \n",
       "2                  Consent provided  \n",
       "3              Consent not provided  \n",
       "4                               N/A  \n",
       "\n",
       "[5 rows x 22 columns]"
      ]
     },
     "execution_count": 8,
     "metadata": {},
     "output_type": "execute_result"
    }
   ],
   "source": [
    "# Inspect the dataframe to understand the given data.\n",
    "df.head()"
   ]
  },
  {
   "cell_type": "code",
   "execution_count": 9,
   "metadata": {
    "colab": {
     "base_uri": "https://localhost:8080/"
    },
    "executionInfo": {
     "elapsed": 412,
     "status": "ok",
     "timestamp": 1662891582379,
     "user": {
      "displayName": "mihir mihirpawar",
      "userId": "09074568654888452491"
     },
     "user_tz": -330
    },
    "id": "Dwcty-wmJrFw",
    "outputId": "3eb158e9-71a5-4bae-8e04-5fc9c190c637"
   },
   "outputs": [
    {
     "data": {
      "text/plain": [
       "Index(['_index', '_type', '_id', '_score', '_source.tags', '_source.zip_code',\n",
       "       '_source.complaint_id', '_source.issue', '_source.date_received',\n",
       "       '_source.state', '_source.consumer_disputed', '_source.product',\n",
       "       '_source.company_response', '_source.company', '_source.submitted_via',\n",
       "       '_source.date_sent_to_company', '_source.company_public_response',\n",
       "       '_source.sub_product', '_source.timely',\n",
       "       '_source.complaint_what_happened', '_source.sub_issue',\n",
       "       '_source.consumer_consent_provided'],\n",
       "      dtype='object')"
      ]
     },
     "execution_count": 9,
     "metadata": {},
     "output_type": "execute_result"
    }
   ],
   "source": [
    "#print the column names\n",
    "df.columns"
   ]
  },
  {
   "cell_type": "code",
   "execution_count": 10,
   "metadata": {
    "executionInfo": {
     "elapsed": 2,
     "status": "ok",
     "timestamp": 1662891586673,
     "user": {
      "displayName": "mihir mihirpawar",
      "userId": "09074568654888452491"
     },
     "user_tz": -330
    },
    "id": "FYCtKXD1JrFw"
   },
   "outputs": [],
   "source": [
    "#Assign new column names\n",
    "df.rename(columns={'_source.complaint_what_happened':'complaints_what_happened', '_source.product':'tag'}, inplace=True)"
   ]
  },
  {
   "cell_type": "code",
   "execution_count": 11,
   "metadata": {
    "executionInfo": {
     "elapsed": 388,
     "status": "ok",
     "timestamp": 1662891592415,
     "user": {
      "displayName": "mihir mihirpawar",
      "userId": "09074568654888452491"
     },
     "user_tz": -330
    },
    "id": "grQUPFL5JrFx"
   },
   "outputs": [],
   "source": [
    "#Assign nan in place of blanks in the complaints column\n",
    "df['complaints_what_happened'].replace(\"\", np.nan, inplace=True)"
   ]
  },
  {
   "cell_type": "code",
   "execution_count": 12,
   "metadata": {
    "colab": {
     "base_uri": "https://localhost:8080/"
    },
    "executionInfo": {
     "elapsed": 395,
     "status": "ok",
     "timestamp": 1662891597623,
     "user": {
      "displayName": "mihir mihirpawar",
      "userId": "09074568654888452491"
     },
     "user_tz": -330
    },
    "id": "Jfxd8VSmJrFy",
    "outputId": "144b2bd5-9c40-4215-fe9d-c937374249e1"
   },
   "outputs": [
    {
     "data": {
      "text/plain": [
       "(21072, 22)"
      ]
     },
     "execution_count": 12,
     "metadata": {},
     "output_type": "execute_result"
    }
   ],
   "source": [
    "#Remove all rows where complaints column is nan\n",
    "df.dropna(subset=['complaints_what_happened'], inplace=True)\n",
    "\n",
    "df.shape"
   ]
  },
  {
   "cell_type": "markdown",
   "metadata": {
    "id": "L944HZpsJrFy"
   },
   "source": [
    "## Prepare the text for topic modeling\n",
    "\n",
    "Once you have removed all the blank complaints, you need to:\n",
    "\n",
    "* Make the text lowercase\n",
    "* Remove text in square brackets\n",
    "* Remove punctuation\n",
    "* Remove words containing numbers\n",
    "\n",
    "\n",
    "Once you have done these cleaning operations you need to perform the following:\n",
    "* Lemmatize the texts\n",
    "* Extract the POS tags of the lemmatized text and remove all the words which have tags other than NN[tag == \"NN\"].\n"
   ]
  },
  {
   "cell_type": "code",
   "execution_count": 13,
   "metadata": {
    "executionInfo": {
     "elapsed": 5,
     "status": "ok",
     "timestamp": 1662891600614,
     "user": {
      "displayName": "mihir mihirpawar",
      "userId": "09074568654888452491"
     },
     "user_tz": -330
    },
    "id": "qm7SjjSkJrFz"
   },
   "outputs": [],
   "source": [
    "# Write your function here to clean the text and remove all the unnecessary elements.\n",
    "def clean_texts(text):\n",
    "    #Make the text lowercase\n",
    "    text=text.lower()\n",
    "    \n",
    "    #Remove text in square brackets\n",
    "    text=re.sub(r'\\[.*?\\]','',text)\n",
    "    \n",
    "    #Remove punctuation\n",
    "    text=re.sub(r'[%s]%re.escape(string.punctuation)','',text)\n",
    "    \n",
    "    #Remove words containing numbers\n",
    "    text = re.sub(r'\\w*\\d\\w*', '', text)\n",
    "    \n",
    "    return text"
   ]
  },
  {
   "cell_type": "code",
   "execution_count": 14,
   "metadata": {
    "executionInfo": {
     "elapsed": 381,
     "status": "ok",
     "timestamp": 1662891611410,
     "user": {
      "displayName": "mihir mihirpawar",
      "userId": "09074568654888452491"
     },
     "user_tz": -330
    },
    "id": "zgOu8t8HJrFz"
   },
   "outputs": [],
   "source": [
    "#Write your function to Lemmatize the texts\n",
    "def lemma_texts(text):     \n",
    "        \n",
    "    # Initialize empty list to store lemmas\n",
    "    lemma_list = []\n",
    "    \n",
    "    # Extract lemmas of given text and add to the list 'sent'\n",
    "    document = nlp(text)\n",
    "    for word in document:\n",
    "        lemma_list.append(word.lemma_)\n",
    "        \n",
    "    # return string converted form of the list of lemmas\n",
    "    return \" \".join(lemma_list)"
   ]
  },
  {
   "cell_type": "code",
   "execution_count": 15,
   "metadata": {
    "colab": {
     "base_uri": "https://localhost:8080/",
     "height": 664
    },
    "executionInfo": {
     "elapsed": 3822,
     "status": "ok",
     "timestamp": 1662891621403,
     "user": {
      "displayName": "mihir mihirpawar",
      "userId": "09074568654888452491"
     },
     "user_tz": -330
    },
    "id": "tVSnWqHE70BM",
    "outputId": "79d9bce9-c753-493d-fd92-af5d64c08de6"
   },
   "outputs": [
    {
     "data": {
      "text/html": [
       "<div>\n",
       "<style scoped>\n",
       "    .dataframe tbody tr th:only-of-type {\n",
       "        vertical-align: middle;\n",
       "    }\n",
       "\n",
       "    .dataframe tbody tr th {\n",
       "        vertical-align: top;\n",
       "    }\n",
       "\n",
       "    .dataframe thead th {\n",
       "        text-align: right;\n",
       "    }\n",
       "</style>\n",
       "<table border=\"1\" class=\"dataframe\">\n",
       "  <thead>\n",
       "    <tr style=\"text-align: right;\">\n",
       "      <th></th>\n",
       "      <th>_index</th>\n",
       "      <th>_type</th>\n",
       "      <th>_id</th>\n",
       "      <th>_score</th>\n",
       "      <th>_source.tags</th>\n",
       "      <th>_source.zip_code</th>\n",
       "      <th>_source.complaint_id</th>\n",
       "      <th>_source.issue</th>\n",
       "      <th>_source.date_received</th>\n",
       "      <th>_source.state</th>\n",
       "      <th>...</th>\n",
       "      <th>_source.company</th>\n",
       "      <th>_source.submitted_via</th>\n",
       "      <th>_source.date_sent_to_company</th>\n",
       "      <th>_source.company_public_response</th>\n",
       "      <th>_source.sub_product</th>\n",
       "      <th>_source.timely</th>\n",
       "      <th>complaints_what_happened</th>\n",
       "      <th>_source.sub_issue</th>\n",
       "      <th>_source.consumer_consent_provided</th>\n",
       "      <th>complaints</th>\n",
       "    </tr>\n",
       "  </thead>\n",
       "  <tbody>\n",
       "    <tr>\n",
       "      <th>1</th>\n",
       "      <td>complaint-public-v2</td>\n",
       "      <td>complaint</td>\n",
       "      <td>3229299</td>\n",
       "      <td>0.0</td>\n",
       "      <td>Servicemember</td>\n",
       "      <td>319XX</td>\n",
       "      <td>3229299</td>\n",
       "      <td>Written notification about debt</td>\n",
       "      <td>2019-05-01T12:00:00-05:00</td>\n",
       "      <td>GA</td>\n",
       "      <td>...</td>\n",
       "      <td>JPMORGAN CHASE &amp; CO.</td>\n",
       "      <td>Web</td>\n",
       "      <td>2019-05-01T12:00:00-05:00</td>\n",
       "      <td>None</td>\n",
       "      <td>Credit card debt</td>\n",
       "      <td>Yes</td>\n",
       "      <td>Good morning my name is XXXX XXXX and I apprec...</td>\n",
       "      <td>Didn't receive enough information to verify debt</td>\n",
       "      <td>Consent provided</td>\n",
       "      <td>good morning my name is xxxx xxxx and i apprec...</td>\n",
       "    </tr>\n",
       "    <tr>\n",
       "      <th>2</th>\n",
       "      <td>complaint-public-v2</td>\n",
       "      <td>complaint</td>\n",
       "      <td>3199379</td>\n",
       "      <td>0.0</td>\n",
       "      <td>None</td>\n",
       "      <td>77069</td>\n",
       "      <td>3199379</td>\n",
       "      <td>Other features, terms, or problems</td>\n",
       "      <td>2019-04-02T12:00:00-05:00</td>\n",
       "      <td>TX</td>\n",
       "      <td>...</td>\n",
       "      <td>JPMORGAN CHASE &amp; CO.</td>\n",
       "      <td>Web</td>\n",
       "      <td>2019-04-02T12:00:00-05:00</td>\n",
       "      <td>None</td>\n",
       "      <td>General-purpose credit card or charge card</td>\n",
       "      <td>Yes</td>\n",
       "      <td>I upgraded my XXXX XXXX card in XX/XX/2018 and...</td>\n",
       "      <td>Problem with rewards from credit card</td>\n",
       "      <td>Consent provided</td>\n",
       "      <td>i upgraded my xxxx xxxx card in xx/xx/ and was...</td>\n",
       "    </tr>\n",
       "    <tr>\n",
       "      <th>10</th>\n",
       "      <td>complaint-public-v2</td>\n",
       "      <td>complaint</td>\n",
       "      <td>3233499</td>\n",
       "      <td>0.0</td>\n",
       "      <td>None</td>\n",
       "      <td>104XX</td>\n",
       "      <td>3233499</td>\n",
       "      <td>Incorrect information on your report</td>\n",
       "      <td>2019-05-06T12:00:00-05:00</td>\n",
       "      <td>NY</td>\n",
       "      <td>...</td>\n",
       "      <td>JPMORGAN CHASE &amp; CO.</td>\n",
       "      <td>Web</td>\n",
       "      <td>2019-05-06T12:00:00-05:00</td>\n",
       "      <td>None</td>\n",
       "      <td>Other personal consumer report</td>\n",
       "      <td>Yes</td>\n",
       "      <td>Chase Card was reported on XX/XX/2019. However...</td>\n",
       "      <td>Information belongs to someone else</td>\n",
       "      <td>Consent provided</td>\n",
       "      <td>chase card was reported on xx/xx/. however, fr...</td>\n",
       "    </tr>\n",
       "    <tr>\n",
       "      <th>11</th>\n",
       "      <td>complaint-public-v2</td>\n",
       "      <td>complaint</td>\n",
       "      <td>3180294</td>\n",
       "      <td>0.0</td>\n",
       "      <td>None</td>\n",
       "      <td>750XX</td>\n",
       "      <td>3180294</td>\n",
       "      <td>Incorrect information on your report</td>\n",
       "      <td>2019-03-14T12:00:00-05:00</td>\n",
       "      <td>TX</td>\n",
       "      <td>...</td>\n",
       "      <td>JPMORGAN CHASE &amp; CO.</td>\n",
       "      <td>Web</td>\n",
       "      <td>2019-03-15T12:00:00-05:00</td>\n",
       "      <td>None</td>\n",
       "      <td>Credit reporting</td>\n",
       "      <td>Yes</td>\n",
       "      <td>On XX/XX/2018, while trying to book a XXXX  XX...</td>\n",
       "      <td>Information belongs to someone else</td>\n",
       "      <td>Consent provided</td>\n",
       "      <td>on xx/xx/, while trying to book a xxxx  xxxx  ...</td>\n",
       "    </tr>\n",
       "    <tr>\n",
       "      <th>14</th>\n",
       "      <td>complaint-public-v2</td>\n",
       "      <td>complaint</td>\n",
       "      <td>3224980</td>\n",
       "      <td>0.0</td>\n",
       "      <td>None</td>\n",
       "      <td>920XX</td>\n",
       "      <td>3224980</td>\n",
       "      <td>Managing an account</td>\n",
       "      <td>2019-04-27T12:00:00-05:00</td>\n",
       "      <td>CA</td>\n",
       "      <td>...</td>\n",
       "      <td>JPMORGAN CHASE &amp; CO.</td>\n",
       "      <td>Web</td>\n",
       "      <td>2019-04-27T12:00:00-05:00</td>\n",
       "      <td>None</td>\n",
       "      <td>Checking account</td>\n",
       "      <td>Yes</td>\n",
       "      <td>my grand son give me check for {$1600.00} i de...</td>\n",
       "      <td>Funds not handled or disbursed as instructed</td>\n",
       "      <td>Consent provided</td>\n",
       "      <td>my grand son give me check for {$.} i deposit ...</td>\n",
       "    </tr>\n",
       "  </tbody>\n",
       "</table>\n",
       "<p>5 rows × 23 columns</p>\n",
       "</div>"
      ],
      "text/plain": [
       "                 _index      _type      _id  _score   _source.tags  \\\n",
       "1   complaint-public-v2  complaint  3229299     0.0  Servicemember   \n",
       "2   complaint-public-v2  complaint  3199379     0.0           None   \n",
       "10  complaint-public-v2  complaint  3233499     0.0           None   \n",
       "11  complaint-public-v2  complaint  3180294     0.0           None   \n",
       "14  complaint-public-v2  complaint  3224980     0.0           None   \n",
       "\n",
       "   _source.zip_code _source.complaint_id  \\\n",
       "1             319XX              3229299   \n",
       "2             77069              3199379   \n",
       "10            104XX              3233499   \n",
       "11            750XX              3180294   \n",
       "14            920XX              3224980   \n",
       "\n",
       "                           _source.issue      _source.date_received  \\\n",
       "1        Written notification about debt  2019-05-01T12:00:00-05:00   \n",
       "2     Other features, terms, or problems  2019-04-02T12:00:00-05:00   \n",
       "10  Incorrect information on your report  2019-05-06T12:00:00-05:00   \n",
       "11  Incorrect information on your report  2019-03-14T12:00:00-05:00   \n",
       "14                   Managing an account  2019-04-27T12:00:00-05:00   \n",
       "\n",
       "   _source.state  ...       _source.company _source.submitted_via  \\\n",
       "1             GA  ...  JPMORGAN CHASE & CO.                   Web   \n",
       "2             TX  ...  JPMORGAN CHASE & CO.                   Web   \n",
       "10            NY  ...  JPMORGAN CHASE & CO.                   Web   \n",
       "11            TX  ...  JPMORGAN CHASE & CO.                   Web   \n",
       "14            CA  ...  JPMORGAN CHASE & CO.                   Web   \n",
       "\n",
       "   _source.date_sent_to_company _source.company_public_response  \\\n",
       "1     2019-05-01T12:00:00-05:00                            None   \n",
       "2     2019-04-02T12:00:00-05:00                            None   \n",
       "10    2019-05-06T12:00:00-05:00                            None   \n",
       "11    2019-03-15T12:00:00-05:00                            None   \n",
       "14    2019-04-27T12:00:00-05:00                            None   \n",
       "\n",
       "                           _source.sub_product _source.timely  \\\n",
       "1                             Credit card debt            Yes   \n",
       "2   General-purpose credit card or charge card            Yes   \n",
       "10              Other personal consumer report            Yes   \n",
       "11                            Credit reporting            Yes   \n",
       "14                            Checking account            Yes   \n",
       "\n",
       "                             complaints_what_happened  \\\n",
       "1   Good morning my name is XXXX XXXX and I apprec...   \n",
       "2   I upgraded my XXXX XXXX card in XX/XX/2018 and...   \n",
       "10  Chase Card was reported on XX/XX/2019. However...   \n",
       "11  On XX/XX/2018, while trying to book a XXXX  XX...   \n",
       "14  my grand son give me check for {$1600.00} i de...   \n",
       "\n",
       "                                   _source.sub_issue  \\\n",
       "1   Didn't receive enough information to verify debt   \n",
       "2              Problem with rewards from credit card   \n",
       "10               Information belongs to someone else   \n",
       "11               Information belongs to someone else   \n",
       "14      Funds not handled or disbursed as instructed   \n",
       "\n",
       "   _source.consumer_consent_provided  \\\n",
       "1                   Consent provided   \n",
       "2                   Consent provided   \n",
       "10                  Consent provided   \n",
       "11                  Consent provided   \n",
       "14                  Consent provided   \n",
       "\n",
       "                                           complaints  \n",
       "1   good morning my name is xxxx xxxx and i apprec...  \n",
       "2   i upgraded my xxxx xxxx card in xx/xx/ and was...  \n",
       "10  chase card was reported on xx/xx/. however, fr...  \n",
       "11  on xx/xx/, while trying to book a xxxx  xxxx  ...  \n",
       "14  my grand son give me check for {$.} i deposit ...  \n",
       "\n",
       "[5 rows x 23 columns]"
      ]
     },
     "execution_count": 15,
     "metadata": {},
     "output_type": "execute_result"
    }
   ],
   "source": [
    "# Apply data cleaning to the complaints_what_happened column\n",
    "\n",
    "df['complaints'] = df['complaints_what_happened'].apply(clean_texts)\n",
    "df.head()"
   ]
  },
  {
   "cell_type": "code",
   "execution_count": 16,
   "metadata": {
    "executionInfo": {
     "elapsed": 820318,
     "status": "ok",
     "timestamp": 1662892585379,
     "user": {
      "displayName": "mihir mihirpawar",
      "userId": "09074568654888452491"
     },
     "user_tz": -330
    },
    "id": "MPGmolQI70DN"
   },
   "outputs": [],
   "source": [
    "# df_clean = pd.DataFrame({'complaints':df['complaints'], 'lemmatized':df['complaints'].apply(lemma_texts)})\n",
    "df['lemmatized complaints'] = df['complaints_what_happened'].apply(lemma_texts)"
   ]
  },
  {
   "cell_type": "code",
   "execution_count": 17,
   "metadata": {
    "executionInfo": {
     "elapsed": 406,
     "status": "ok",
     "timestamp": 1662892917016,
     "user": {
      "displayName": "mihir mihirpawar",
      "userId": "09074568654888452491"
     },
     "user_tz": -330
    },
    "id": "uXnN7aa_JrF0"
   },
   "outputs": [],
   "source": [
    "#Create a dataframe('df_clean') that will have only the complaints and the lemmatized complaints \n",
    "df_clean=df[['complaints','lemmatized complaints']]"
   ]
  },
  {
   "cell_type": "code",
   "execution_count": 18,
   "metadata": {
    "executionInfo": {
     "elapsed": 736086,
     "status": "ok",
     "timestamp": 1662893659632,
     "user": {
      "displayName": "mihir mihirpawar",
      "userId": "09074568654888452491"
     },
     "user_tz": -330
    },
    "id": "Kk7fc4DuJrF1"
   },
   "outputs": [],
   "source": [
    "#Write your function to extract the POS tags \n",
    "\n",
    "def get_pos_tags(text):\n",
    "    nn_words = []\n",
    "    doc = nlp(text)\n",
    "    for tok in doc:\n",
    "        if(tok.tag_ == 'NN'):\n",
    "            nn_words.append(tok.lemma_)\n",
    "    nn_words_str = \" \".join(nn_words)\n",
    "    return nn_words_str\n",
    "\n",
    "df_clean[\"complaint_POS_removed\"] =  df_clean.apply(lambda x: get_pos_tags(x['lemmatized complaints']), axis=1)\n"
   ]
  },
  {
   "cell_type": "code",
   "execution_count": 19,
   "metadata": {
    "colab": {
     "base_uri": "https://localhost:8080/",
     "height": 206
    },
    "executionInfo": {
     "elapsed": 387,
     "status": "ok",
     "timestamp": 1662893698503,
     "user": {
      "displayName": "mihir mihirpawar",
      "userId": "09074568654888452491"
     },
     "user_tz": -330
    },
    "id": "AjxfchvFJrF2",
    "outputId": "220a616f-a637-451d-9d62-3a13b3c3f791"
   },
   "outputs": [
    {
     "data": {
      "text/html": [
       "<div>\n",
       "<style scoped>\n",
       "    .dataframe tbody tr th:only-of-type {\n",
       "        vertical-align: middle;\n",
       "    }\n",
       "\n",
       "    .dataframe tbody tr th {\n",
       "        vertical-align: top;\n",
       "    }\n",
       "\n",
       "    .dataframe thead th {\n",
       "        text-align: right;\n",
       "    }\n",
       "</style>\n",
       "<table border=\"1\" class=\"dataframe\">\n",
       "  <thead>\n",
       "    <tr style=\"text-align: right;\">\n",
       "      <th></th>\n",
       "      <th>complaints</th>\n",
       "      <th>lemmatized complaints</th>\n",
       "      <th>complaint_POS_removed</th>\n",
       "    </tr>\n",
       "  </thead>\n",
       "  <tbody>\n",
       "    <tr>\n",
       "      <th>1</th>\n",
       "      <td>good morning my name is xxxx xxxx and i apprec...</td>\n",
       "      <td>good morning -PRON- name be xxxx XXXX and -PRO...</td>\n",
       "      <td>morning name stop cardmember service debt veri...</td>\n",
       "    </tr>\n",
       "    <tr>\n",
       "      <th>2</th>\n",
       "      <td>i upgraded my xxxx xxxx card in xx/xx/ and was...</td>\n",
       "      <td>-PRON- upgrade -PRON- xxxx xxxx card in XX / X...</td>\n",
       "      <td>card agent upgrade anniversary date agent info...</td>\n",
       "    </tr>\n",
       "    <tr>\n",
       "      <th>10</th>\n",
       "      <td>chase card was reported on xx/xx/. however, fr...</td>\n",
       "      <td>Chase Card be report on XX / xx/2019 . however...</td>\n",
       "      <td>report application -pron- identity consent ser...</td>\n",
       "    </tr>\n",
       "    <tr>\n",
       "      <th>11</th>\n",
       "      <td>on xx/xx/, while trying to book a xxxx  xxxx  ...</td>\n",
       "      <td>on XX / XX/2018 , while try to book a xxxx   x...</td>\n",
       "      <td>xxxx ticket offer ticket reward card informati...</td>\n",
       "    </tr>\n",
       "    <tr>\n",
       "      <th>14</th>\n",
       "      <td>my grand son give me check for {$.} i deposit ...</td>\n",
       "      <td>-PRON- grand son give -PRON- check for { $ 160...</td>\n",
       "      <td>son account account money son check money mone...</td>\n",
       "    </tr>\n",
       "  </tbody>\n",
       "</table>\n",
       "</div>"
      ],
      "text/plain": [
       "                                           complaints  \\\n",
       "1   good morning my name is xxxx xxxx and i apprec...   \n",
       "2   i upgraded my xxxx xxxx card in xx/xx/ and was...   \n",
       "10  chase card was reported on xx/xx/. however, fr...   \n",
       "11  on xx/xx/, while trying to book a xxxx  xxxx  ...   \n",
       "14  my grand son give me check for {$.} i deposit ...   \n",
       "\n",
       "                                lemmatized complaints  \\\n",
       "1   good morning -PRON- name be xxxx XXXX and -PRO...   \n",
       "2   -PRON- upgrade -PRON- xxxx xxxx card in XX / X...   \n",
       "10  Chase Card be report on XX / xx/2019 . however...   \n",
       "11  on XX / XX/2018 , while try to book a xxxx   x...   \n",
       "14  -PRON- grand son give -PRON- check for { $ 160...   \n",
       "\n",
       "                                complaint_POS_removed  \n",
       "1   morning name stop cardmember service debt veri...  \n",
       "2   card agent upgrade anniversary date agent info...  \n",
       "10  report application -pron- identity consent ser...  \n",
       "11  xxxx ticket offer ticket reward card informati...  \n",
       "14  son account account money son check money mone...  "
      ]
     },
     "execution_count": 19,
     "metadata": {},
     "output_type": "execute_result"
    }
   ],
   "source": [
    "#The clean dataframe should now contain the raw complaint, lemmatized complaint and the complaint after removing POS tags.\n",
    "df_clean.head()"
   ]
  },
  {
   "cell_type": "markdown",
   "metadata": {
    "id": "_7Un1AElJrF2"
   },
   "source": [
    "## Exploratory data analysis to get familiar with the data.\n",
    "\n",
    "Write the code in this task to perform the following:\n",
    "\n",
    "*   Visualise the data according to the 'Complaint' character length\n",
    "*   Using a word cloud find the top 40 words by frequency among all the articles after processing the text\n",
    "*   Find the top unigrams,bigrams and trigrams by frequency among all the complaints after processing the text. ‘\n",
    "\n",
    "\n"
   ]
  },
  {
   "cell_type": "code",
   "execution_count": 20,
   "metadata": {
    "colab": {
     "base_uri": "https://localhost:8080/",
     "height": 388
    },
    "executionInfo": {
     "elapsed": 472,
     "status": "ok",
     "timestamp": 1662893940539,
     "user": {
      "displayName": "mihir mihirpawar",
      "userId": "09074568654888452491"
     },
     "user_tz": -330
    },
    "id": "q-zaqJF6JrF2",
    "outputId": "df684ffe-d42e-4a93-f226-d6a8c8f3e5cd"
   },
   "outputs": [
    {
     "data": {
      "image/png": "[encoded data removed]",
      "text/plain": [
       "<Figure size 720x432 with 1 Axes>"
      ]
     },
     "metadata": {
      "needs_background": "light"
     },
     "output_type": "display_data"
    }
   ],
   "source": [
    "# Write your code here to visualise the data according to the 'Complaint' character length\n",
    "plt.figure(figsize=(10,6))\n",
    "doc_lens = [len(d) for d in df_clean.complaint_POS_removed]\n",
    "plt.hist(doc_lens, bins = 50)\n",
    "plt.ylabel('Number of Complaint')\n",
    "plt.xlabel('Complaint character length')\n",
    "sns.despine();"
   ]
  },
  {
   "cell_type": "markdown",
   "metadata": {
    "id": "T9jD_6SeJrF3"
   },
   "source": [
    "#### Find the top 40 words by frequency among all the articles after processing the text."
   ]
  },
  {
   "cell_type": "code",
   "execution_count": 21,
   "metadata": {
    "colab": {
     "base_uri": "https://localhost:8080/",
     "height": 589
    },
    "executionInfo": {
     "elapsed": 2031,
     "status": "ok",
     "timestamp": 1662893944971,
     "user": {
      "displayName": "mihir mihirpawar",
      "userId": "09074568654888452491"
     },
     "user_tz": -330
    },
    "id": "QcfdvtfZJrF3",
    "outputId": "7e44934a-ceb5-49a1-da1d-eef1064b6e73"
   },
   "outputs": [
    {
     "data": {
      "image/png": "[encoded data removed]",
      "text/plain": [
       "<Figure size 1440x1440 with 1 Axes>"
      ]
     },
     "metadata": {
      "needs_background": "light"
     },
     "output_type": "display_data"
    }
   ],
   "source": [
    "#Using a word cloud find the top 40 words by frequency among all the articles after processing the text\n",
    "stop_words = set(STOPWORDS)\n",
    "word_cloud = WordCloud(\n",
    "                          background_color='white',\n",
    "                          stopwords=stop_words,\n",
    "                          max_font_size=40,\n",
    "                          max_words=40, \n",
    "                          random_state=100\n",
    "                         ).generate(str(df_clean['complaint_POS_removed']))\n",
    "\n",
    "fig = plt.figure(figsize=(20,20))\n",
    "plt.imshow(word_cloud)\n",
    "plt.axis('off')\n",
    "plt.show()"
   ]
  },
  {
   "cell_type": "code",
   "execution_count": 22,
   "metadata": {
    "executionInfo": {
     "elapsed": 16,
     "status": "ok",
     "timestamp": 1662893946597,
     "user": {
      "displayName": "mihir mihirpawar",
      "userId": "09074568654888452491"
     },
     "user_tz": -330
    },
    "id": "OkSmc3UaJrF4"
   },
   "outputs": [],
   "source": [
    "#Removing -PRON- from the text corpus\n",
    "df_clean['Complaint_clean'] = df_clean['complaint_POS_removed'].str.replace('-PRON-', '')"
   ]
  },
  {
   "cell_type": "markdown",
   "metadata": {
    "id": "5DfCSbbmJrF4"
   },
   "source": [
    "#### Find the top unigrams,bigrams and trigrams by frequency among all the complaints after processing the text."
   ]
  },
  {
   "cell_type": "code",
   "execution_count": 23,
   "metadata": {
    "executionInfo": {
     "elapsed": 16,
     "status": "ok",
     "timestamp": 1662893946598,
     "user": {
      "displayName": "mihir mihirpawar",
      "userId": "09074568654888452491"
     },
     "user_tz": -330
    },
    "id": "5mbk5DS5JrF4"
   },
   "outputs": [],
   "source": [
    "#Write your code here to find the top 30 unigram frequency among the complaints in the cleaned datafram(df_clean). \n",
    "def get_top_unigram(text, n=30):\n",
    "\n",
    "    vector = CountVectorizer(stop_words='english').fit(text)\n",
    "    bag_of_words = vector.transform(text)\n",
    "    sum_of_words = bag_of_words.sum(axis=0) \n",
    "    word_freq = [(word, sum_of_words[0, idx]) for word, idx in vector.vocabulary_.items()]\n",
    "    word_freq =sorted(word_freq, key = lambda x: x[1], reverse=True)\n",
    "    return word_freq[:n]"
   ]
  },
  {
   "cell_type": "code",
   "execution_count": 24,
   "metadata": {
    "colab": {
     "base_uri": "https://localhost:8080/",
     "height": 363
    },
    "executionInfo": {
     "elapsed": 15,
     "status": "ok",
     "timestamp": 1662893946598,
     "user": {
      "displayName": "mihir mihirpawar",
      "userId": "09074568654888452491"
     },
     "user_tz": -330
    },
    "id": "YX7fedm1JrF8",
    "outputId": "a63dc32b-3c34-49cc-8b8b-49973f48b07e"
   },
   "outputs": [
    {
     "data": {
      "text/html": [
       "<div>\n",
       "<style scoped>\n",
       "    .dataframe tbody tr th:only-of-type {\n",
       "        vertical-align: middle;\n",
       "    }\n",
       "\n",
       "    .dataframe tbody tr th {\n",
       "        vertical-align: top;\n",
       "    }\n",
       "\n",
       "    .dataframe thead th {\n",
       "        text-align: right;\n",
       "    }\n",
       "</style>\n",
       "<table border=\"1\" class=\"dataframe\">\n",
       "  <thead>\n",
       "    <tr style=\"text-align: right;\">\n",
       "      <th></th>\n",
       "      <th>unigram</th>\n",
       "      <th>count</th>\n",
       "    </tr>\n",
       "  </thead>\n",
       "  <tbody>\n",
       "    <tr>\n",
       "      <th>0</th>\n",
       "      <td>account</td>\n",
       "      <td>45258</td>\n",
       "    </tr>\n",
       "    <tr>\n",
       "      <th>1</th>\n",
       "      <td>credit</td>\n",
       "      <td>30699</td>\n",
       "    </tr>\n",
       "    <tr>\n",
       "      <th>2</th>\n",
       "      <td>card</td>\n",
       "      <td>27279</td>\n",
       "    </tr>\n",
       "    <tr>\n",
       "      <th>3</th>\n",
       "      <td>pron</td>\n",
       "      <td>24367</td>\n",
       "    </tr>\n",
       "    <tr>\n",
       "      <th>4</th>\n",
       "      <td>xxxx</td>\n",
       "      <td>21489</td>\n",
       "    </tr>\n",
       "    <tr>\n",
       "      <th>5</th>\n",
       "      <td>payment</td>\n",
       "      <td>20820</td>\n",
       "    </tr>\n",
       "    <tr>\n",
       "      <th>6</th>\n",
       "      <td>charge</td>\n",
       "      <td>16156</td>\n",
       "    </tr>\n",
       "    <tr>\n",
       "      <th>7</th>\n",
       "      <td>time</td>\n",
       "      <td>16129</td>\n",
       "    </tr>\n",
       "    <tr>\n",
       "      <th>8</th>\n",
       "      <td>bank</td>\n",
       "      <td>16025</td>\n",
       "    </tr>\n",
       "    <tr>\n",
       "      <th>9</th>\n",
       "      <td>day</td>\n",
       "      <td>12862</td>\n",
       "    </tr>\n",
       "  </tbody>\n",
       "</table>\n",
       "</div>"
      ],
      "text/plain": [
       "   unigram  count\n",
       "0  account  45258\n",
       "1   credit  30699\n",
       "2     card  27279\n",
       "3     pron  24367\n",
       "4     xxxx  21489\n",
       "5  payment  20820\n",
       "6   charge  16156\n",
       "7     time  16129\n",
       "8     bank  16025\n",
       "9      day  12862"
      ]
     },
     "execution_count": 24,
     "metadata": {},
     "output_type": "execute_result"
    }
   ],
   "source": [
    "#Print the top 10 words in the unigram frequency\n",
    "top_common_words = get_top_unigram(df_clean['complaint_POS_removed'].values.astype('U'))\n",
    "df_unigram = pd.DataFrame(top_common_words, columns = ['unigram' , 'count'])\n",
    "df_unigram.head(10)"
   ]
  },
  {
   "cell_type": "code",
   "execution_count": 25,
   "metadata": {
    "colab": {
     "base_uri": "https://localhost:8080/",
     "height": 581
    },
    "executionInfo": {
     "elapsed": 14,
     "status": "ok",
     "timestamp": 1662893946599,
     "user": {
      "displayName": "mihir mihirpawar",
      "userId": "09074568654888452491"
     },
     "user_tz": -330
    },
    "id": "jH5t6LXIBhIC",
    "outputId": "3f26bbb3-f63f-4219-842c-270f2fd06cc7"
   },
   "outputs": [
    {
     "data": {
      "image/png": "[encoded data removed]",
      "text/plain": [
       "<Figure size 1440x576 with 1 Axes>"
      ]
     },
     "metadata": {
      "needs_background": "light"
     },
     "output_type": "display_data"
    }
   ],
   "source": [
    "plt.figure(figsize=(20,8))\n",
    "sns.barplot(x='unigram', y='count', data=df_unigram, palette=\"Reds_d\")\n",
    "plt.xticks(rotation=90)\n",
    "plt.title(\"Top 30 unigrams in the Complaint text\", fontsize=20)\n",
    "plt.show()"
   ]
  },
  {
   "cell_type": "code",
   "execution_count": 26,
   "metadata": {
    "executionInfo": {
     "elapsed": 13,
     "status": "ok",
     "timestamp": 1662893946599,
     "user": {
      "displayName": "mihir mihirpawar",
      "userId": "09074568654888452491"
     },
     "user_tz": -330
    },
    "id": "aV7kD7w8JrF8"
   },
   "outputs": [],
   "source": [
    "#Write your code here to find the top 30 bigram frequency among the complaints in the cleaned datafram(df_clean). \n",
    "def get_top_bigram(text, n=30):\n",
    "\n",
    "    vector = CountVectorizer(ngram_range=(2, 2), stop_words='english').fit(text)\n",
    "    bag_of_words = vector.transform(text)\n",
    "    sum_of_words = bag_of_words.sum(axis=0) \n",
    "    word_freq = [(word, sum_of_words[0, idx]) for word, idx in vector.vocabulary_.items()]\n",
    "    word_freq =sorted(word_freq, key = lambda x: x[1], reverse=True)\n",
    "    return word_freq[:n]"
   ]
  },
  {
   "cell_type": "code",
   "execution_count": 27,
   "metadata": {
    "colab": {
     "base_uri": "https://localhost:8080/",
     "height": 363
    },
    "executionInfo": {
     "elapsed": 13,
     "status": "ok",
     "timestamp": 1662893946599,
     "user": {
      "displayName": "mihir mihirpawar",
      "userId": "09074568654888452491"
     },
     "user_tz": -330
    },
    "id": "NPnMNIpyJrF9",
    "outputId": "c958251a-9a6c-478c-c432-7efa0aa74903"
   },
   "outputs": [
    {
     "data": {
      "text/html": [
       "<div>\n",
       "<style scoped>\n",
       "    .dataframe tbody tr th:only-of-type {\n",
       "        vertical-align: middle;\n",
       "    }\n",
       "\n",
       "    .dataframe tbody tr th {\n",
       "        vertical-align: top;\n",
       "    }\n",
       "\n",
       "    .dataframe thead th {\n",
       "        text-align: right;\n",
       "    }\n",
       "</style>\n",
       "<table border=\"1\" class=\"dataframe\">\n",
       "  <thead>\n",
       "    <tr style=\"text-align: right;\">\n",
       "      <th></th>\n",
       "      <th>Bigram</th>\n",
       "      <th>count</th>\n",
       "    </tr>\n",
       "  </thead>\n",
       "  <tbody>\n",
       "    <tr>\n",
       "      <th>0</th>\n",
       "      <td>credit card</td>\n",
       "      <td>11278</td>\n",
       "    </tr>\n",
       "    <tr>\n",
       "      <th>1</th>\n",
       "      <td>pron account</td>\n",
       "      <td>4688</td>\n",
       "    </tr>\n",
       "    <tr>\n",
       "      <th>2</th>\n",
       "      <td>credit report</td>\n",
       "      <td>3743</td>\n",
       "    </tr>\n",
       "    <tr>\n",
       "      <th>3</th>\n",
       "      <td>customer service</td>\n",
       "      <td>2625</td>\n",
       "    </tr>\n",
       "    <tr>\n",
       "      <th>4</th>\n",
       "      <td>account account</td>\n",
       "      <td>2491</td>\n",
       "    </tr>\n",
       "    <tr>\n",
       "      <th>5</th>\n",
       "      <td>xxxx xxxx</td>\n",
       "      <td>2404</td>\n",
       "    </tr>\n",
       "    <tr>\n",
       "      <th>6</th>\n",
       "      <td>checking account</td>\n",
       "      <td>2030</td>\n",
       "    </tr>\n",
       "    <tr>\n",
       "      <th>7</th>\n",
       "      <td>bank account</td>\n",
       "      <td>1987</td>\n",
       "    </tr>\n",
       "    <tr>\n",
       "      <th>8</th>\n",
       "      <td>debit card</td>\n",
       "      <td>1817</td>\n",
       "    </tr>\n",
       "    <tr>\n",
       "      <th>9</th>\n",
       "      <td>credit score</td>\n",
       "      <td>1663</td>\n",
       "    </tr>\n",
       "  </tbody>\n",
       "</table>\n",
       "</div>"
      ],
      "text/plain": [
       "             Bigram  count\n",
       "0       credit card  11278\n",
       "1      pron account   4688\n",
       "2     credit report   3743\n",
       "3  customer service   2625\n",
       "4   account account   2491\n",
       "5         xxxx xxxx   2404\n",
       "6  checking account   2030\n",
       "7      bank account   1987\n",
       "8        debit card   1817\n",
       "9      credit score   1663"
      ]
     },
     "execution_count": 27,
     "metadata": {},
     "output_type": "execute_result"
    }
   ],
   "source": [
    "#Print the top 10 words in the bigram frequency\n",
    "top_common_words = get_top_bigram(df_clean['complaint_POS_removed'].values.astype('U'))\n",
    "df_bigram = pd.DataFrame(top_common_words, columns = ['Bigram' , 'count'])\n",
    "df_bigram.head(10)"
   ]
  },
  {
   "cell_type": "code",
   "execution_count": 28,
   "metadata": {
    "colab": {
     "base_uri": "https://localhost:8080/",
     "height": 620
    },
    "executionInfo": {
     "elapsed": 13,
     "status": "ok",
     "timestamp": 1662893946600,
     "user": {
      "displayName": "mihir mihirpawar",
      "userId": "09074568654888452491"
     },
     "user_tz": -330
    },
    "id": "Yp3P_3rUBt07",
    "outputId": "a37a447b-6173-4095-b248-d7aeaf3a0765"
   },
   "outputs": [
    {
     "data": {
      "image/png": "[encoded data removed]",
      "text/plain": [
       "<Figure size 1440x576 with 1 Axes>"
      ]
     },
     "metadata": {
      "needs_background": "light"
     },
     "output_type": "display_data"
    }
   ],
   "source": [
    "plt.figure(figsize=(20,8))\n",
    "sns.barplot(x='Bigram', y='count', data=df_bigram, palette=\"Blues_d\")\n",
    "plt.xticks(rotation=90)\n",
    "plt.title(\"Top 30 bigrams in the Complaint text\", fontsize=20)\n",
    "plt.show()"
   ]
  },
  {
   "cell_type": "code",
   "execution_count": 29,
   "metadata": {
    "executionInfo": {
     "elapsed": 12,
     "status": "ok",
     "timestamp": 1662893946600,
     "user": {
      "displayName": "mihir mihirpawar",
      "userId": "09074568654888452491"
     },
     "user_tz": -330
    },
    "id": "Xkh7vtbtJrF-"
   },
   "outputs": [],
   "source": [
    "#Write your code here to find the top 30 trigram frequency among the complaints in the cleaned datafram(df_clean). \n",
    "def get_top_trigram(text, n=30):\n",
    "\n",
    "    vector = CountVectorizer(ngram_range=(3, 3), stop_words='english').fit(text)\n",
    "    bag_of_words = vector.transform(text)\n",
    "    sum_of_words = bag_of_words.sum(axis=0) \n",
    "    word_freq = [(word, sum_of_words[0, idx]) for word, idx in vector.vocabulary_.items()]\n",
    "    word_freq =sorted(word_freq, key = lambda x: x[1], reverse=True)\n",
    "    return word_freq[:n]"
   ]
  },
  {
   "cell_type": "code",
   "execution_count": 30,
   "metadata": {
    "colab": {
     "base_uri": "https://localhost:8080/",
     "height": 363
    },
    "executionInfo": {
     "elapsed": 12,
     "status": "ok",
     "timestamp": 1662893946600,
     "user": {
      "displayName": "mihir mihirpawar",
      "userId": "09074568654888452491"
     },
     "user_tz": -330
    },
    "id": "REcVxNfvJrF-",
    "outputId": "8dca4333-7eea-4b7e-84f6-113c37cd53d2"
   },
   "outputs": [
    {
     "data": {
      "text/html": [
       "<div>\n",
       "<style scoped>\n",
       "    .dataframe tbody tr th:only-of-type {\n",
       "        vertical-align: middle;\n",
       "    }\n",
       "\n",
       "    .dataframe tbody tr th {\n",
       "        vertical-align: top;\n",
       "    }\n",
       "\n",
       "    .dataframe thead th {\n",
       "        text-align: right;\n",
       "    }\n",
       "</style>\n",
       "<table border=\"1\" class=\"dataframe\">\n",
       "  <thead>\n",
       "    <tr style=\"text-align: right;\">\n",
       "      <th></th>\n",
       "      <th>trigram</th>\n",
       "      <th>count</th>\n",
       "    </tr>\n",
       "  </thead>\n",
       "  <tbody>\n",
       "    <tr>\n",
       "      <th>0</th>\n",
       "      <td>credit card account</td>\n",
       "      <td>998</td>\n",
       "    </tr>\n",
       "    <tr>\n",
       "      <th>1</th>\n",
       "      <td>credit card company</td>\n",
       "      <td>897</td>\n",
       "    </tr>\n",
       "    <tr>\n",
       "      <th>2</th>\n",
       "      <td>charge credit card</td>\n",
       "      <td>572</td>\n",
       "    </tr>\n",
       "    <tr>\n",
       "      <th>3</th>\n",
       "      <td>credit card credit</td>\n",
       "      <td>525</td>\n",
       "    </tr>\n",
       "    <tr>\n",
       "      <th>4</th>\n",
       "      <td>xxxx xxxx xxxx</td>\n",
       "      <td>492</td>\n",
       "    </tr>\n",
       "    <tr>\n",
       "      <th>5</th>\n",
       "      <td>inquiry credit report</td>\n",
       "      <td>476</td>\n",
       "    </tr>\n",
       "    <tr>\n",
       "      <th>6</th>\n",
       "      <td>account credit card</td>\n",
       "      <td>444</td>\n",
       "    </tr>\n",
       "    <tr>\n",
       "      <th>7</th>\n",
       "      <td>card credit card</td>\n",
       "      <td>430</td>\n",
       "    </tr>\n",
       "    <tr>\n",
       "      <th>8</th>\n",
       "      <td>credit card charge</td>\n",
       "      <td>348</td>\n",
       "    </tr>\n",
       "    <tr>\n",
       "      <th>9</th>\n",
       "      <td>credit reporting agency</td>\n",
       "      <td>336</td>\n",
       "    </tr>\n",
       "  </tbody>\n",
       "</table>\n",
       "</div>"
      ],
      "text/plain": [
       "                   trigram  count\n",
       "0      credit card account    998\n",
       "1      credit card company    897\n",
       "2       charge credit card    572\n",
       "3       credit card credit    525\n",
       "4           xxxx xxxx xxxx    492\n",
       "5    inquiry credit report    476\n",
       "6      account credit card    444\n",
       "7         card credit card    430\n",
       "8       credit card charge    348\n",
       "9  credit reporting agency    336"
      ]
     },
     "execution_count": 30,
     "metadata": {},
     "output_type": "execute_result"
    }
   ],
   "source": [
    "#Print the top 10 words in the trigram frequency\n",
    "top_common_words = get_top_trigram(df_clean['complaint_POS_removed'].values.astype('U'))\n",
    "df_trigram = pd.DataFrame(top_common_words, columns = ['trigram' , 'count'])\n",
    "df_trigram.head(10)"
   ]
  },
  {
   "cell_type": "code",
   "execution_count": 31,
   "metadata": {
    "colab": {
     "base_uri": "https://localhost:8080/",
     "height": 561
    },
    "executionInfo": {
     "elapsed": 13,
     "status": "ok",
     "timestamp": 1662893946601,
     "user": {
      "displayName": "mihir mihirpawar",
      "userId": "09074568654888452491"
     },
     "user_tz": -330
    },
    "id": "ATu_3EUfB0Xk",
    "outputId": "1b865417-4991-4368-d44e-489fb518ae6f"
   },
   "outputs": [
    {
     "data": {
      "image/png": "[encoded data removed]",
      "text/plain": [
       "<Figure size 1080x432 with 1 Axes>"
      ]
     },
     "metadata": {
      "needs_background": "light"
     },
     "output_type": "display_data"
    }
   ],
   "source": [
    "plt.figure(figsize=(15,6))\n",
    "sns.barplot(x='trigram', y='count', data=df_trigram, palette=\"Greens_d\")\n",
    "plt.xticks(rotation=90)\n",
    "plt.title(\"Top 30 trigrams in the Complaint text\", fontsize=20)\n",
    "plt.show()"
   ]
  },
  {
   "cell_type": "markdown",
   "metadata": {
    "id": "yUXzFji0JrF_"
   },
   "source": [
    "## The personal details of customer has been masked in the dataset with xxxx. Let's remove the masked text as this will be of no use for our analysis"
   ]
  },
  {
   "cell_type": "code",
   "execution_count": 32,
   "metadata": {
    "executionInfo": {
     "elapsed": 7,
     "status": "ok",
     "timestamp": 1662893947246,
     "user": {
      "displayName": "mihir mihirpawar",
      "userId": "09074568654888452491"
     },
     "user_tz": -330
    },
    "id": "wKda-a_IJrF_"
   },
   "outputs": [],
   "source": [
    "df_clean['Complaint_clean'] = df_clean['Complaint_clean'].str.replace('xxxx','')"
   ]
  },
  {
   "cell_type": "code",
   "execution_count": 33,
   "metadata": {
    "colab": {
     "base_uri": "https://localhost:8080/",
     "height": 285
    },
    "executionInfo": {
     "elapsed": 6,
     "status": "ok",
     "timestamp": 1662893947247,
     "user": {
      "displayName": "mihir mihirpawar",
      "userId": "09074568654888452491"
     },
     "user_tz": -330
    },
    "id": "9UIFk8fQJrF_",
    "outputId": "cddeac53-dd9e-4746-e8b1-d3f67a9af359"
   },
   "outputs": [
    {
     "data": {
      "text/html": [
       "<div>\n",
       "<style scoped>\n",
       "    .dataframe tbody tr th:only-of-type {\n",
       "        vertical-align: middle;\n",
       "    }\n",
       "\n",
       "    .dataframe tbody tr th {\n",
       "        vertical-align: top;\n",
       "    }\n",
       "\n",
       "    .dataframe thead th {\n",
       "        text-align: right;\n",
       "    }\n",
       "</style>\n",
       "<table border=\"1\" class=\"dataframe\">\n",
       "  <thead>\n",
       "    <tr style=\"text-align: right;\">\n",
       "      <th></th>\n",
       "      <th>complaints</th>\n",
       "      <th>lemmatized complaints</th>\n",
       "      <th>complaint_POS_removed</th>\n",
       "      <th>Complaint_clean</th>\n",
       "    </tr>\n",
       "  </thead>\n",
       "  <tbody>\n",
       "    <tr>\n",
       "      <th>1</th>\n",
       "      <td>good morning my name is xxxx xxxx and i apprec...</td>\n",
       "      <td>good morning -PRON- name be xxxx XXXX and -PRO...</td>\n",
       "      <td>morning name stop cardmember service debt veri...</td>\n",
       "      <td>morning name stop cardmember service debt veri...</td>\n",
       "    </tr>\n",
       "    <tr>\n",
       "      <th>2</th>\n",
       "      <td>i upgraded my xxxx xxxx card in xx/xx/ and was...</td>\n",
       "      <td>-PRON- upgrade -PRON- xxxx xxxx card in XX / X...</td>\n",
       "      <td>card agent upgrade anniversary date agent info...</td>\n",
       "      <td>card agent upgrade anniversary date agent info...</td>\n",
       "    </tr>\n",
       "    <tr>\n",
       "      <th>10</th>\n",
       "      <td>chase card was reported on xx/xx/. however, fr...</td>\n",
       "      <td>Chase Card be report on XX / xx/2019 . however...</td>\n",
       "      <td>report application -pron- identity consent ser...</td>\n",
       "      <td>report application -pron- identity consent ser...</td>\n",
       "    </tr>\n",
       "    <tr>\n",
       "      <th>11</th>\n",
       "      <td>on xx/xx/, while trying to book a xxxx  xxxx  ...</td>\n",
       "      <td>on XX / XX/2018 , while try to book a xxxx   x...</td>\n",
       "      <td>xxxx ticket offer ticket reward card informati...</td>\n",
       "      <td>ticket offer ticket reward card information o...</td>\n",
       "    </tr>\n",
       "    <tr>\n",
       "      <th>14</th>\n",
       "      <td>my grand son give me check for {$.} i deposit ...</td>\n",
       "      <td>-PRON- grand son give -PRON- check for { $ 160...</td>\n",
       "      <td>son account account money son check money mone...</td>\n",
       "      <td>son account account money son check money mone...</td>\n",
       "    </tr>\n",
       "  </tbody>\n",
       "</table>\n",
       "</div>"
      ],
      "text/plain": [
       "                                           complaints  \\\n",
       "1   good morning my name is xxxx xxxx and i apprec...   \n",
       "2   i upgraded my xxxx xxxx card in xx/xx/ and was...   \n",
       "10  chase card was reported on xx/xx/. however, fr...   \n",
       "11  on xx/xx/, while trying to book a xxxx  xxxx  ...   \n",
       "14  my grand son give me check for {$.} i deposit ...   \n",
       "\n",
       "                                lemmatized complaints  \\\n",
       "1   good morning -PRON- name be xxxx XXXX and -PRO...   \n",
       "2   -PRON- upgrade -PRON- xxxx xxxx card in XX / X...   \n",
       "10  Chase Card be report on XX / xx/2019 . however...   \n",
       "11  on XX / XX/2018 , while try to book a xxxx   x...   \n",
       "14  -PRON- grand son give -PRON- check for { $ 160...   \n",
       "\n",
       "                                complaint_POS_removed  \\\n",
       "1   morning name stop cardmember service debt veri...   \n",
       "2   card agent upgrade anniversary date agent info...   \n",
       "10  report application -pron- identity consent ser...   \n",
       "11  xxxx ticket offer ticket reward card informati...   \n",
       "14  son account account money son check money mone...   \n",
       "\n",
       "                                      Complaint_clean  \n",
       "1   morning name stop cardmember service debt veri...  \n",
       "2   card agent upgrade anniversary date agent info...  \n",
       "10  report application -pron- identity consent ser...  \n",
       "11   ticket offer ticket reward card information o...  \n",
       "14  son account account money son check money mone...  "
      ]
     },
     "execution_count": 33,
     "metadata": {},
     "output_type": "execute_result"
    }
   ],
   "source": [
    "#All masked texts has been removed\n",
    "df_clean.head()"
   ]
  },
  {
   "cell_type": "markdown",
   "metadata": {
    "id": "k-I0k0QtJrGA"
   },
   "source": [
    "## Feature Extraction\n",
    "Convert the raw texts to a matrix of TF-IDF features\n",
    "\n",
    "**max_df** is used for removing terms that appear too frequently, also known as \"corpus-specific stop words\"\n",
    "max_df = 0.95 means \"ignore terms that appear in more than 95% of the complaints\"\n",
    "\n",
    "**min_df** is used for removing terms that appear too infrequently\n",
    "min_df = 2 means \"ignore terms that appear in less than 2 complaints\""
   ]
  },
  {
   "cell_type": "code",
   "execution_count": 34,
   "metadata": {
    "executionInfo": {
     "elapsed": 3,
     "status": "ok",
     "timestamp": 1662893947247,
     "user": {
      "displayName": "mihir mihirpawar",
      "userId": "09074568654888452491"
     },
     "user_tz": -330
    },
    "id": "Y8fGwaCPJrGA"
   },
   "outputs": [],
   "source": [
    "#Write your code here to initialise the TfidfVectorizer \n",
    "tfidf = TfidfVectorizer(max_df=0.95, min_df=2, stop_words='english')"
   ]
  },
  {
   "cell_type": "markdown",
   "metadata": {
    "id": "yYzD85nTJrGA"
   },
   "source": [
    "#### Create a document term matrix using fit_transform\n",
    "\n",
    "The contents of a document term matrix are tuples of (complaint_id,token_id) tf-idf score:\n",
    "The tuples that are not there have a tf-idf score of 0"
   ]
  },
  {
   "cell_type": "code",
   "execution_count": 35,
   "metadata": {
    "executionInfo": {
     "elapsed": 3,
     "status": "ok",
     "timestamp": 1662893947247,
     "user": {
      "displayName": "mihir mihirpawar",
      "userId": "09074568654888452491"
     },
     "user_tz": -330
    },
    "id": "ffzdDpp_JrGB"
   },
   "outputs": [],
   "source": [
    "#Write your code here to create the Document Term Matrix by transforming the complaints column present in df_clean.\n",
    "dtm = tfidf.fit_transform(df_clean['complaint_POS_removed'])"
   ]
  },
  {
   "cell_type": "markdown",
   "metadata": {
    "id": "7Q9lwvNEJrGB"
   },
   "source": [
    "## Topic Modelling using NMF\n",
    "\n",
    "Non-Negative Matrix Factorization (NMF) is an unsupervised technique so there are no labeling of topics that the model will be trained on. The way it works is that, NMF decomposes (or factorizes) high-dimensional vectors into a lower-dimensional representation. These lower-dimensional vectors are non-negative which also means their coefficients are non-negative.\n",
    "\n",
    "In this task you have to perform the following:\n",
    "\n",
    "* Find the best number of clusters \n",
    "* Apply the best number to create word clusters\n",
    "* Inspect & validate the correction of each cluster wrt the complaints \n",
    "* Correct the labels if needed \n",
    "* Map the clusters to topics/cluster names"
   ]
  },
  {
   "cell_type": "code",
   "execution_count": 36,
   "metadata": {
    "executionInfo": {
     "elapsed": 4,
     "status": "ok",
     "timestamp": 1662893948994,
     "user": {
      "displayName": "mihir mihirpawar",
      "userId": "09074568654888452491"
     },
     "user_tz": -330
    },
    "id": "amLT4omWJrGB"
   },
   "outputs": [],
   "source": [
    "from sklearn.decomposition import NMF"
   ]
  },
  {
   "cell_type": "markdown",
   "metadata": {
    "id": "0wYR1xUTJrGD"
   },
   "source": [
    "## Manual Topic Modeling\n",
    "You need to do take the trial & error approach to find the best num of topics for your NMF model.\n",
    "\n",
    "The only parameter that is required is the number of components i.e. the number of topics we want. This is the most crucial step in the whole topic modeling process and will greatly affect how good your final topics are."
   ]
  },
  {
   "cell_type": "code",
   "execution_count": 37,
   "metadata": {
    "executionInfo": {
     "elapsed": 1,
     "status": "ok",
     "timestamp": 1662893952021,
     "user": {
      "displayName": "mihir mihirpawar",
      "userId": "09074568654888452491"
     },
     "user_tz": -330
    },
    "id": "sgd2A6bhJrGD"
   },
   "outputs": [],
   "source": [
    "#Load your nmf_model with the n_components i.e 5\n",
    "num_topics = 5\n",
    "\n",
    "#keep the random_state =40\n",
    "nmf_model = NMF(random_state=40, n_components=num_topics)"
   ]
  },
  {
   "cell_type": "code",
   "execution_count": 38,
   "metadata": {
    "colab": {
     "base_uri": "https://localhost:8080/"
    },
    "executionInfo": {
     "elapsed": 7,
     "status": "ok",
     "timestamp": 1662893952488,
     "user": {
      "displayName": "mihir mihirpawar",
      "userId": "09074568654888452491"
     },
     "user_tz": -330
    },
    "id": "VPMDYbt_JrGE",
    "outputId": "22aa2a50-a4c4-45db-dc33-d903bf8b98a2"
   },
   "outputs": [
    {
     "data": {
      "text/plain": [
       "6147"
      ]
     },
     "execution_count": 38,
     "metadata": {},
     "output_type": "execute_result"
    }
   ],
   "source": [
    "nmf_model.fit(dtm)\n",
    "len(tfidf.get_feature_names())"
   ]
  },
  {
   "cell_type": "code",
   "execution_count": 39,
   "metadata": {
    "colab": {
     "base_uri": "https://localhost:8080/",
     "height": 206
    },
    "executionInfo": {
     "elapsed": 662,
     "status": "ok",
     "timestamp": 1662893954110,
     "user": {
      "displayName": "mihir mihirpawar",
      "userId": "09074568654888452491"
     },
     "user_tz": -330
    },
    "id": "16kRfat5JrGE",
    "outputId": "6c8e8849-6537-423e-9280-0c0169966f02"
   },
   "outputs": [
    {
     "data": {
      "text/html": [
       "<div>\n",
       "<style scoped>\n",
       "    .dataframe tbody tr th:only-of-type {\n",
       "        vertical-align: middle;\n",
       "    }\n",
       "\n",
       "    .dataframe tbody tr th {\n",
       "        vertical-align: top;\n",
       "    }\n",
       "\n",
       "    .dataframe thead th {\n",
       "        text-align: right;\n",
       "    }\n",
       "</style>\n",
       "<table border=\"1\" class=\"dataframe\">\n",
       "  <thead>\n",
       "    <tr style=\"text-align: right;\">\n",
       "      <th></th>\n",
       "      <th>Word 1</th>\n",
       "      <th>Word 2</th>\n",
       "      <th>Word 3</th>\n",
       "      <th>Word 4</th>\n",
       "      <th>Word 5</th>\n",
       "      <th>Word 6</th>\n",
       "      <th>Word 7</th>\n",
       "      <th>Word 8</th>\n",
       "      <th>Word 9</th>\n",
       "      <th>Word 10</th>\n",
       "      <th>Word 11</th>\n",
       "      <th>Word 12</th>\n",
       "      <th>Word 13</th>\n",
       "      <th>Word 14</th>\n",
       "      <th>Word 15</th>\n",
       "    </tr>\n",
       "  </thead>\n",
       "  <tbody>\n",
       "    <tr>\n",
       "      <th>Topic 1</th>\n",
       "      <td>account</td>\n",
       "      <td>check</td>\n",
       "      <td>bank</td>\n",
       "      <td>money</td>\n",
       "      <td>fund</td>\n",
       "      <td>pron</td>\n",
       "      <td>deposit</td>\n",
       "      <td>day</td>\n",
       "      <td>branch</td>\n",
       "      <td>checking</td>\n",
       "      <td>number</td>\n",
       "      <td>transaction</td>\n",
       "      <td>xxxx</td>\n",
       "      <td>business</td>\n",
       "      <td>transfer</td>\n",
       "    </tr>\n",
       "    <tr>\n",
       "      <th>Topic 2</th>\n",
       "      <td>credit</td>\n",
       "      <td>card</td>\n",
       "      <td>report</td>\n",
       "      <td>inquiry</td>\n",
       "      <td>account</td>\n",
       "      <td>score</td>\n",
       "      <td>company</td>\n",
       "      <td>information</td>\n",
       "      <td>limit</td>\n",
       "      <td>application</td>\n",
       "      <td>debt</td>\n",
       "      <td>letter</td>\n",
       "      <td>year</td>\n",
       "      <td>pron</td>\n",
       "      <td>balance</td>\n",
       "    </tr>\n",
       "    <tr>\n",
       "      <th>Topic 3</th>\n",
       "      <td>payment</td>\n",
       "      <td>balance</td>\n",
       "      <td>month</td>\n",
       "      <td>fee</td>\n",
       "      <td>statement</td>\n",
       "      <td>pay</td>\n",
       "      <td>time</td>\n",
       "      <td>day</td>\n",
       "      <td>mortgage</td>\n",
       "      <td>date</td>\n",
       "      <td>auto</td>\n",
       "      <td>credit</td>\n",
       "      <td>xxxx</td>\n",
       "      <td>year</td>\n",
       "      <td>account</td>\n",
       "    </tr>\n",
       "    <tr>\n",
       "      <th>Topic 4</th>\n",
       "      <td>charge</td>\n",
       "      <td>card</td>\n",
       "      <td>fee</td>\n",
       "      <td>dispute</td>\n",
       "      <td>transaction</td>\n",
       "      <td>merchant</td>\n",
       "      <td>purchase</td>\n",
       "      <td>xxxx</td>\n",
       "      <td>claim</td>\n",
       "      <td>fraud</td>\n",
       "      <td>service</td>\n",
       "      <td>refund</td>\n",
       "      <td>statement</td>\n",
       "      <td>balance</td>\n",
       "      <td>time</td>\n",
       "    </tr>\n",
       "    <tr>\n",
       "      <th>Topic 5</th>\n",
       "      <td>loan</td>\n",
       "      <td>mortgage</td>\n",
       "      <td>modification</td>\n",
       "      <td>home</td>\n",
       "      <td>xxxx</td>\n",
       "      <td>property</td>\n",
       "      <td>letter</td>\n",
       "      <td>year</td>\n",
       "      <td>document</td>\n",
       "      <td>time</td>\n",
       "      <td>rate</td>\n",
       "      <td>pron</td>\n",
       "      <td>request</td>\n",
       "      <td>foreclosure</td>\n",
       "      <td>information</td>\n",
       "    </tr>\n",
       "  </tbody>\n",
       "</table>\n",
       "</div>"
      ],
      "text/plain": [
       "          Word 1    Word 2        Word 3   Word 4       Word 5    Word 6  \\\n",
       "Topic 1  account     check          bank    money         fund      pron   \n",
       "Topic 2   credit      card        report  inquiry      account     score   \n",
       "Topic 3  payment   balance         month      fee    statement       pay   \n",
       "Topic 4   charge      card           fee  dispute  transaction  merchant   \n",
       "Topic 5     loan  mortgage  modification     home         xxxx  property   \n",
       "\n",
       "           Word 7       Word 8    Word 9      Word 10  Word 11      Word 12  \\\n",
       "Topic 1   deposit          day    branch     checking   number  transaction   \n",
       "Topic 2   company  information     limit  application     debt       letter   \n",
       "Topic 3      time          day  mortgage         date     auto       credit   \n",
       "Topic 4  purchase         xxxx     claim        fraud  service       refund   \n",
       "Topic 5    letter         year  document         time     rate         pron   \n",
       "\n",
       "           Word 13      Word 14      Word 15  \n",
       "Topic 1       xxxx     business     transfer  \n",
       "Topic 2       year         pron      balance  \n",
       "Topic 3       xxxx         year      account  \n",
       "Topic 4  statement      balance         time  \n",
       "Topic 5    request  foreclosure  information  "
      ]
     },
     "execution_count": 39,
     "metadata": {},
     "output_type": "execute_result"
    }
   ],
   "source": [
    "#Print the Top15 words for each of the topics\n",
    "words = np.array(tfidf.get_feature_names())\n",
    "topic_words_df = pd.DataFrame(np.zeros((num_topics, 15)), index=[f'Topic {i + 1}' for i in range(num_topics)],\n",
    "                           columns=[f'Word {i + 1}' for i in range(15)]).astype(str)\n",
    "\n",
    "for i in range(num_topics):\n",
    "    ix = nmf_model.components_[i].argsort()[::-1][:15]\n",
    "    topic_words_df.iloc[i] = words[ix]\n",
    "\n",
    "topic_words_df"
   ]
  },
  {
   "cell_type": "code",
   "execution_count": 40,
   "metadata": {
    "colab": {
     "base_uri": "https://localhost:8080/"
    },
    "executionInfo": {
     "elapsed": 3,
     "status": "ok",
     "timestamp": 1662893955458,
     "user": {
      "displayName": "mihir mihirpawar",
      "userId": "09074568654888452491"
     },
     "user_tz": -330
    },
    "id": "0OIT7LmFJrGF",
    "outputId": "0ae41be3-a01b-4d62-9e7d-9b93a4cc67b7"
   },
   "outputs": [
    {
     "data": {
      "text/plain": [
       "array([4, 1, 1, ..., 3, 2, 2], dtype=int64)"
      ]
     },
     "execution_count": 40,
     "metadata": {},
     "output_type": "execute_result"
    }
   ],
   "source": [
    "#Create the best topic for each complaint in terms of integer value 0,1,2,3 & 4\n",
    "topic_results = nmf_model.transform(dtm)\n",
    "topic_results.argmax(axis=1)"
   ]
  },
  {
   "cell_type": "code",
   "execution_count": 41,
   "metadata": {
    "executionInfo": {
     "elapsed": 3,
     "status": "ok",
     "timestamp": 1662893956008,
     "user": {
      "displayName": "mihir mihirpawar",
      "userId": "09074568654888452491"
     },
     "user_tz": -330
    },
    "id": "peyYv-ORJrGF"
   },
   "outputs": [],
   "source": [
    "#Assign the best topic to each of the cmplaints in Topic Column\n",
    "\n",
    "df_clean['Topic'] = topic_results.argmax(axis=1)"
   ]
  },
  {
   "cell_type": "code",
   "execution_count": 42,
   "metadata": {
    "colab": {
     "base_uri": "https://localhost:8080/",
     "height": 988
    },
    "executionInfo": {
     "elapsed": 3,
     "status": "ok",
     "timestamp": 1662893957840,
     "user": {
      "displayName": "mihir mihirpawar",
      "userId": "09074568654888452491"
     },
     "user_tz": -330
    },
    "id": "aQKpufSPJrGG",
    "outputId": "3e34ae37-5132-48f8-d52c-232d6edf2779"
   },
   "outputs": [
    {
     "data": {
      "text/html": [
       "<div>\n",
       "<style scoped>\n",
       "    .dataframe tbody tr th:only-of-type {\n",
       "        vertical-align: middle;\n",
       "    }\n",
       "\n",
       "    .dataframe tbody tr th {\n",
       "        vertical-align: top;\n",
       "    }\n",
       "\n",
       "    .dataframe thead th {\n",
       "        text-align: right;\n",
       "    }\n",
       "</style>\n",
       "<table border=\"1\" class=\"dataframe\">\n",
       "  <thead>\n",
       "    <tr style=\"text-align: right;\">\n",
       "      <th></th>\n",
       "      <th>complaints</th>\n",
       "      <th>lemmatized complaints</th>\n",
       "      <th>complaint_POS_removed</th>\n",
       "      <th>Complaint_clean</th>\n",
       "      <th>Topic</th>\n",
       "    </tr>\n",
       "  </thead>\n",
       "  <tbody>\n",
       "    <tr>\n",
       "      <th>14</th>\n",
       "      <td>my grand son give me check for {$.} i deposit ...</td>\n",
       "      <td>-PRON- grand son give -PRON- check for { $ 160...</td>\n",
       "      <td>son account account money son check money mone...</td>\n",
       "      <td>son account account money son check money mone...</td>\n",
       "      <td>0</td>\n",
       "    </tr>\n",
       "    <tr>\n",
       "      <th>17</th>\n",
       "      <td>with out notice j.p. morgan chase restricted m...</td>\n",
       "      <td>with out notice J.P. Morgan Chase restrict -PR...</td>\n",
       "      <td>notice account debit card branch advise custom...</td>\n",
       "      <td>notice account debit card branch advise custom...</td>\n",
       "      <td>0</td>\n",
       "    </tr>\n",
       "    <tr>\n",
       "      <th>24</th>\n",
       "      <td>mishandling of this account by chase auto and ...</td>\n",
       "      <td>mishandle of this account by Chase auto and xx...</td>\n",
       "      <td>account auto xxxx</td>\n",
       "      <td>account auto</td>\n",
       "      <td>0</td>\n",
       "    </tr>\n",
       "    <tr>\n",
       "      <th>27</th>\n",
       "      <td>i opened an account with chase bank on xxxx an...</td>\n",
       "      <td>-PRON- open an account with chase bank on XXXX...</td>\n",
       "      <td>account code bonus term everything account xxx...</td>\n",
       "      <td>account code bonus term everything account  de...</td>\n",
       "      <td>0</td>\n",
       "    </tr>\n",
       "    <tr>\n",
       "      <th>35</th>\n",
       "      <td>i opened the saving account for the {$.} bonus...</td>\n",
       "      <td>-PRON- open the saving account for the { $ 25....</td>\n",
       "      <td>saving account bonus bonus auto transfer check...</td>\n",
       "      <td>saving account bonus bonus auto transfer check...</td>\n",
       "      <td>0</td>\n",
       "    </tr>\n",
       "    <tr>\n",
       "      <th>2</th>\n",
       "      <td>i upgraded my xxxx xxxx card in xx/xx/ and was...</td>\n",
       "      <td>-PRON- upgrade -PRON- xxxx xxxx card in XX / X...</td>\n",
       "      <td>card agent upgrade anniversary date agent info...</td>\n",
       "      <td>card agent upgrade anniversary date agent info...</td>\n",
       "      <td>1</td>\n",
       "    </tr>\n",
       "    <tr>\n",
       "      <th>10</th>\n",
       "      <td>chase card was reported on xx/xx/. however, fr...</td>\n",
       "      <td>Chase Card be report on XX / xx/2019 . however...</td>\n",
       "      <td>report application -pron- identity consent ser...</td>\n",
       "      <td>report application -pron- identity consent ser...</td>\n",
       "      <td>1</td>\n",
       "    </tr>\n",
       "    <tr>\n",
       "      <th>11</th>\n",
       "      <td>on xx/xx/, while trying to book a xxxx  xxxx  ...</td>\n",
       "      <td>on XX / XX/2018 , while try to book a xxxx   x...</td>\n",
       "      <td>xxxx ticket offer ticket reward card informati...</td>\n",
       "      <td>ticket offer ticket reward card information o...</td>\n",
       "      <td>1</td>\n",
       "    </tr>\n",
       "    <tr>\n",
       "      <th>15</th>\n",
       "      <td>can you please remove inquiry</td>\n",
       "      <td>Can -PRON- please remove inquiry</td>\n",
       "      <td>inquiry</td>\n",
       "      <td>inquiry</td>\n",
       "      <td>1</td>\n",
       "    </tr>\n",
       "    <tr>\n",
       "      <th>23</th>\n",
       "      <td>i have a chase credit card which is incorrectl...</td>\n",
       "      <td>-PRON- have a Chase credit card which be incor...</td>\n",
       "      <td>credit card datum credit report company help i...</td>\n",
       "      <td>credit card datum credit report company help i...</td>\n",
       "      <td>1</td>\n",
       "    </tr>\n",
       "    <tr>\n",
       "      <th>167</th>\n",
       "      <td>a double payment from my chase debt cart to ch...</td>\n",
       "      <td>a double payment from -PRON- chase debt cart t...</td>\n",
       "      <td>payment debt cart credit card request day refu...</td>\n",
       "      <td>payment debt cart credit card request day refu...</td>\n",
       "      <td>2</td>\n",
       "    </tr>\n",
       "    <tr>\n",
       "      <th>20</th>\n",
       "      <td>during the summer months, i experience a decli...</td>\n",
       "      <td>during the summer month , -PRON- experience a ...</td>\n",
       "      <td>summer month decline income employment month p...</td>\n",
       "      <td>summer month decline income employment month p...</td>\n",
       "      <td>2</td>\n",
       "    </tr>\n",
       "    <tr>\n",
       "      <th>82</th>\n",
       "      <td>i recently called to ask chase bank why they r...</td>\n",
       "      <td>-PRON- recently call to ask Chase bank why -PR...</td>\n",
       "      <td>bank credit day payment info xxxx bill balance...</td>\n",
       "      <td>bank credit day payment info  bill balance fin...</td>\n",
       "      <td>2</td>\n",
       "    </tr>\n",
       "    <tr>\n",
       "      <th>141</th>\n",
       "      <td>action taken by the company between the dates ...</td>\n",
       "      <td>Action take by the Company between the date of...</td>\n",
       "      <td>action date individual group contact claim pay...</td>\n",
       "      <td>action date individual group contact claim pay...</td>\n",
       "      <td>2</td>\n",
       "    </tr>\n",
       "    <tr>\n",
       "      <th>58</th>\n",
       "      <td>i made a purchase of {$.} on xx/xx/xxxx. i mad...</td>\n",
       "      <td>-PRON- make a purchase of { $ 260.00 } on XX /...</td>\n",
       "      <td>purchase payment payment closing date statemen...</td>\n",
       "      <td>purchase payment payment closing date statemen...</td>\n",
       "      <td>2</td>\n",
       "    </tr>\n",
       "    <tr>\n",
       "      <th>63</th>\n",
       "      <td>i tried to send almost {$.} at xxxx and the tr...</td>\n",
       "      <td>-PRON- try to send almost { $ 2000.00 } at XXX...</td>\n",
       "      <td>transaction charge service refund card</td>\n",
       "      <td>transaction charge service refund card</td>\n",
       "      <td>3</td>\n",
       "    </tr>\n",
       "    <tr>\n",
       "      <th>30</th>\n",
       "      <td>to whom it may concern, chase bank charged wro...</td>\n",
       "      <td>to whom -PRON- may concern , Chase bank charge...</td>\n",
       "      <td>bank charge overdraft fee alert balance unsufi...</td>\n",
       "      <td>bank charge overdraft fee alert balance unsufi...</td>\n",
       "      <td>3</td>\n",
       "    </tr>\n",
       "    <tr>\n",
       "      <th>45</th>\n",
       "      <td>i made a purchase with xxxx xxxx xxxx on xx/xx...</td>\n",
       "      <td>-PRON- make a purchase with xxxx xxxx xxxx on ...</td>\n",
       "      <td>purchase amount charge transaction dispute cas...</td>\n",
       "      <td>purchase amount charge transaction dispute cas...</td>\n",
       "      <td>3</td>\n",
       "    </tr>\n",
       "    <tr>\n",
       "      <th>40</th>\n",
       "      <td>xxxx xxxx a sofa, love seat, table and chairs ...</td>\n",
       "      <td>XXXX XXXX a sofa , love seat , table and chair...</td>\n",
       "      <td>sofa love seat table chair debit card charge c...</td>\n",
       "      <td>sofa love seat table chair debit card charge c...</td>\n",
       "      <td>3</td>\n",
       "    </tr>\n",
       "    <tr>\n",
       "      <th>21</th>\n",
       "      <td>on xxxx xx/xx/, i made a {$.} payment to an on...</td>\n",
       "      <td>on XXXX xx / xx/2019 , -PRON- make a { $ 300.0...</td>\n",
       "      <td>payment retailer use pay website scam website ...</td>\n",
       "      <td>payment retailer use pay website scam website ...</td>\n",
       "      <td>3</td>\n",
       "    </tr>\n",
       "    <tr>\n",
       "      <th>57</th>\n",
       "      <td>i have been trying to do a loan modification w...</td>\n",
       "      <td>-PRON- have be try to do a loan modification w...</td>\n",
       "      <td>loan modification runaround mo -pron- payment doc</td>\n",
       "      <td>loan modification runaround mo -pron- payment doc</td>\n",
       "      <td>4</td>\n",
       "    </tr>\n",
       "    <tr>\n",
       "      <th>73</th>\n",
       "      <td>i have wired through one of chase branches in ...</td>\n",
       "      <td>-PRON- have wire through one of Chase branch i...</td>\n",
       "      <td>wire branch order foreclosure property trustee...</td>\n",
       "      <td>wire branch order foreclosure property trustee...</td>\n",
       "      <td>4</td>\n",
       "    </tr>\n",
       "    <tr>\n",
       "      <th>81</th>\n",
       "      <td>i bought a new xxxx xxxx on xx/xx/xxxx from xx...</td>\n",
       "      <td>-PRON- buy a new xxxx xxxx on XX / XX / xxxx f...</td>\n",
       "      <td>loan title contact chase time resolution time ...</td>\n",
       "      <td>loan title contact chase time resolution time ...</td>\n",
       "      <td>4</td>\n",
       "    </tr>\n",
       "    <tr>\n",
       "      <th>48</th>\n",
       "      <td>jp morgan chase bank, please answer the follow...</td>\n",
       "      <td>JP Morgan Chase Bank , please answer the follo...</td>\n",
       "      <td>follow question access information xxxx xxxx r...</td>\n",
       "      <td>follow question access information   reason ac...</td>\n",
       "      <td>4</td>\n",
       "    </tr>\n",
       "    <tr>\n",
       "      <th>1</th>\n",
       "      <td>good morning my name is xxxx xxxx and i apprec...</td>\n",
       "      <td>good morning -PRON- name be xxxx XXXX and -PRO...</td>\n",
       "      <td>morning name stop cardmember service debt veri...</td>\n",
       "      <td>morning name stop cardmember service debt veri...</td>\n",
       "      <td>4</td>\n",
       "    </tr>\n",
       "  </tbody>\n",
       "</table>\n",
       "</div>"
      ],
      "text/plain": [
       "                                            complaints  \\\n",
       "14   my grand son give me check for {$.} i deposit ...   \n",
       "17   with out notice j.p. morgan chase restricted m...   \n",
       "24   mishandling of this account by chase auto and ...   \n",
       "27   i opened an account with chase bank on xxxx an...   \n",
       "35   i opened the saving account for the {$.} bonus...   \n",
       "2    i upgraded my xxxx xxxx card in xx/xx/ and was...   \n",
       "10   chase card was reported on xx/xx/. however, fr...   \n",
       "11   on xx/xx/, while trying to book a xxxx  xxxx  ...   \n",
       "15                       can you please remove inquiry   \n",
       "23   i have a chase credit card which is incorrectl...   \n",
       "167  a double payment from my chase debt cart to ch...   \n",
       "20   during the summer months, i experience a decli...   \n",
       "82   i recently called to ask chase bank why they r...   \n",
       "141  action taken by the company between the dates ...   \n",
       "58   i made a purchase of {$.} on xx/xx/xxxx. i mad...   \n",
       "63   i tried to send almost {$.} at xxxx and the tr...   \n",
       "30   to whom it may concern, chase bank charged wro...   \n",
       "45   i made a purchase with xxxx xxxx xxxx on xx/xx...   \n",
       "40   xxxx xxxx a sofa, love seat, table and chairs ...   \n",
       "21   on xxxx xx/xx/, i made a {$.} payment to an on...   \n",
       "57   i have been trying to do a loan modification w...   \n",
       "73   i have wired through one of chase branches in ...   \n",
       "81   i bought a new xxxx xxxx on xx/xx/xxxx from xx...   \n",
       "48   jp morgan chase bank, please answer the follow...   \n",
       "1    good morning my name is xxxx xxxx and i apprec...   \n",
       "\n",
       "                                 lemmatized complaints  \\\n",
       "14   -PRON- grand son give -PRON- check for { $ 160...   \n",
       "17   with out notice J.P. Morgan Chase restrict -PR...   \n",
       "24   mishandle of this account by Chase auto and xx...   \n",
       "27   -PRON- open an account with chase bank on XXXX...   \n",
       "35   -PRON- open the saving account for the { $ 25....   \n",
       "2    -PRON- upgrade -PRON- xxxx xxxx card in XX / X...   \n",
       "10   Chase Card be report on XX / xx/2019 . however...   \n",
       "11   on XX / XX/2018 , while try to book a xxxx   x...   \n",
       "15                    Can -PRON- please remove inquiry   \n",
       "23   -PRON- have a Chase credit card which be incor...   \n",
       "167  a double payment from -PRON- chase debt cart t...   \n",
       "20   during the summer month , -PRON- experience a ...   \n",
       "82   -PRON- recently call to ask Chase bank why -PR...   \n",
       "141  Action take by the Company between the date of...   \n",
       "58   -PRON- make a purchase of { $ 260.00 } on XX /...   \n",
       "63   -PRON- try to send almost { $ 2000.00 } at XXX...   \n",
       "30   to whom -PRON- may concern , Chase bank charge...   \n",
       "45   -PRON- make a purchase with xxxx xxxx xxxx on ...   \n",
       "40   XXXX XXXX a sofa , love seat , table and chair...   \n",
       "21   on XXXX xx / xx/2019 , -PRON- make a { $ 300.0...   \n",
       "57   -PRON- have be try to do a loan modification w...   \n",
       "73   -PRON- have wire through one of Chase branch i...   \n",
       "81   -PRON- buy a new xxxx xxxx on XX / XX / xxxx f...   \n",
       "48   JP Morgan Chase Bank , please answer the follo...   \n",
       "1    good morning -PRON- name be xxxx XXXX and -PRO...   \n",
       "\n",
       "                                 complaint_POS_removed  \\\n",
       "14   son account account money son check money mone...   \n",
       "17   notice account debit card branch advise custom...   \n",
       "24                                   account auto xxxx   \n",
       "27   account code bonus term everything account xxx...   \n",
       "35   saving account bonus bonus auto transfer check...   \n",
       "2    card agent upgrade anniversary date agent info...   \n",
       "10   report application -pron- identity consent ser...   \n",
       "11   xxxx ticket offer ticket reward card informati...   \n",
       "15                                             inquiry   \n",
       "23   credit card datum credit report company help i...   \n",
       "167  payment debt cart credit card request day refu...   \n",
       "20   summer month decline income employment month p...   \n",
       "82   bank credit day payment info xxxx bill balance...   \n",
       "141  action date individual group contact claim pay...   \n",
       "58   purchase payment payment closing date statemen...   \n",
       "63              transaction charge service refund card   \n",
       "30   bank charge overdraft fee alert balance unsufi...   \n",
       "45   purchase amount charge transaction dispute cas...   \n",
       "40   sofa love seat table chair debit card charge c...   \n",
       "21   payment retailer use pay website scam website ...   \n",
       "57   loan modification runaround mo -pron- payment doc   \n",
       "73   wire branch order foreclosure property trustee...   \n",
       "81   loan title contact chase time resolution time ...   \n",
       "48   follow question access information xxxx xxxx r...   \n",
       "1    morning name stop cardmember service debt veri...   \n",
       "\n",
       "                                       Complaint_clean  Topic  \n",
       "14   son account account money son check money mone...      0  \n",
       "17   notice account debit card branch advise custom...      0  \n",
       "24                                       account auto       0  \n",
       "27   account code bonus term everything account  de...      0  \n",
       "35   saving account bonus bonus auto transfer check...      0  \n",
       "2    card agent upgrade anniversary date agent info...      1  \n",
       "10   report application -pron- identity consent ser...      1  \n",
       "11    ticket offer ticket reward card information o...      1  \n",
       "15                                             inquiry      1  \n",
       "23   credit card datum credit report company help i...      1  \n",
       "167  payment debt cart credit card request day refu...      2  \n",
       "20   summer month decline income employment month p...      2  \n",
       "82   bank credit day payment info  bill balance fin...      2  \n",
       "141  action date individual group contact claim pay...      2  \n",
       "58   purchase payment payment closing date statemen...      2  \n",
       "63              transaction charge service refund card      3  \n",
       "30   bank charge overdraft fee alert balance unsufi...      3  \n",
       "45   purchase amount charge transaction dispute cas...      3  \n",
       "40   sofa love seat table chair debit card charge c...      3  \n",
       "21   payment retailer use pay website scam website ...      3  \n",
       "57   loan modification runaround mo -pron- payment doc      4  \n",
       "73   wire branch order foreclosure property trustee...      4  \n",
       "81   loan title contact chase time resolution time ...      4  \n",
       "48   follow question access information   reason ac...      4  \n",
       "1    morning name stop cardmember service debt veri...      4  "
      ]
     },
     "execution_count": 42,
     "metadata": {},
     "output_type": "execute_result"
    }
   ],
   "source": [
    "#Print the first 5 Complaint for each of the Topics\n",
    "First5_comps=df_clean.groupby('Topic').head(5)\n",
    "First5_comps.sort_values('Topic')"
   ]
  },
  {
   "cell_type": "markdown",
   "metadata": {
    "id": "piyLxzj6v07j"
   },
   "source": [
    "#### After evaluating the mapping, if the topics assigned are correct then assign these names to the relevant topic:\n",
    "* Bank Account services\n",
    "* Credit card or prepaid card\n",
    "* Theft/Dispute Reporting\n",
    "* Mortgage/Loan\n",
    "* Others"
   ]
  },
  {
   "cell_type": "code",
   "execution_count": 43,
   "metadata": {
    "executionInfo": {
     "elapsed": 5,
     "status": "ok",
     "timestamp": 1662893959883,
     "user": {
      "displayName": "mihir mihirpawar",
      "userId": "09074568654888452491"
     },
     "user_tz": -330
    },
    "id": "TWpwDG4RJrGG"
   },
   "outputs": [],
   "source": [
    "#Create the dictionary of Topic names and Topics\n",
    "\n",
    "Topic_names = {0:'Bank Account Services', 1:'Others', 2:'Mortgage/Loan', 3:'Credit card or prepaid card', 4:'Theft/Dispute Reporting'}\n",
    "\n",
    "# Replace Topics with Topic Names\n",
    "df_clean['Topic'] = df_clean['Topic'].map(Topic_names)"
   ]
  },
  {
   "cell_type": "code",
   "execution_count": 44,
   "metadata": {
    "colab": {
     "base_uri": "https://localhost:8080/",
     "height": 320
    },
    "executionInfo": {
     "elapsed": 3,
     "status": "ok",
     "timestamp": 1662893962301,
     "user": {
      "displayName": "mihir mihirpawar",
      "userId": "09074568654888452491"
     },
     "user_tz": -330
    },
    "id": "-2ULY5K6JrGG",
    "outputId": "62308318-cf9d-49a4-8391-422ec7c617a2"
   },
   "outputs": [
    {
     "data": {
      "text/html": [
       "<div>\n",
       "<style scoped>\n",
       "    .dataframe tbody tr th:only-of-type {\n",
       "        vertical-align: middle;\n",
       "    }\n",
       "\n",
       "    .dataframe tbody tr th {\n",
       "        vertical-align: top;\n",
       "    }\n",
       "\n",
       "    .dataframe thead th {\n",
       "        text-align: right;\n",
       "    }\n",
       "</style>\n",
       "<table border=\"1\" class=\"dataframe\">\n",
       "  <thead>\n",
       "    <tr style=\"text-align: right;\">\n",
       "      <th></th>\n",
       "      <th>complaints</th>\n",
       "      <th>lemmatized complaints</th>\n",
       "      <th>complaint_POS_removed</th>\n",
       "      <th>Complaint_clean</th>\n",
       "      <th>Topic</th>\n",
       "    </tr>\n",
       "  </thead>\n",
       "  <tbody>\n",
       "    <tr>\n",
       "      <th>1</th>\n",
       "      <td>good morning my name is xxxx xxxx and i apprec...</td>\n",
       "      <td>good morning -PRON- name be xxxx XXXX and -PRO...</td>\n",
       "      <td>morning name stop cardmember service debt veri...</td>\n",
       "      <td>morning name stop cardmember service debt veri...</td>\n",
       "      <td>Theft/Dispute Reporting</td>\n",
       "    </tr>\n",
       "    <tr>\n",
       "      <th>2</th>\n",
       "      <td>i upgraded my xxxx xxxx card in xx/xx/ and was...</td>\n",
       "      <td>-PRON- upgrade -PRON- xxxx xxxx card in XX / X...</td>\n",
       "      <td>card agent upgrade anniversary date agent info...</td>\n",
       "      <td>card agent upgrade anniversary date agent info...</td>\n",
       "      <td>Others</td>\n",
       "    </tr>\n",
       "    <tr>\n",
       "      <th>10</th>\n",
       "      <td>chase card was reported on xx/xx/. however, fr...</td>\n",
       "      <td>Chase Card be report on XX / xx/2019 . however...</td>\n",
       "      <td>report application -pron- identity consent ser...</td>\n",
       "      <td>report application -pron- identity consent ser...</td>\n",
       "      <td>Others</td>\n",
       "    </tr>\n",
       "    <tr>\n",
       "      <th>11</th>\n",
       "      <td>on xx/xx/, while trying to book a xxxx  xxxx  ...</td>\n",
       "      <td>on XX / XX/2018 , while try to book a xxxx   x...</td>\n",
       "      <td>xxxx ticket offer ticket reward card informati...</td>\n",
       "      <td>ticket offer ticket reward card information o...</td>\n",
       "      <td>Others</td>\n",
       "    </tr>\n",
       "    <tr>\n",
       "      <th>14</th>\n",
       "      <td>my grand son give me check for {$.} i deposit ...</td>\n",
       "      <td>-PRON- grand son give -PRON- check for { $ 160...</td>\n",
       "      <td>son account account money son check money mone...</td>\n",
       "      <td>son account account money son check money mone...</td>\n",
       "      <td>Bank Account Services</td>\n",
       "    </tr>\n",
       "  </tbody>\n",
       "</table>\n",
       "</div>"
      ],
      "text/plain": [
       "                                           complaints  \\\n",
       "1   good morning my name is xxxx xxxx and i apprec...   \n",
       "2   i upgraded my xxxx xxxx card in xx/xx/ and was...   \n",
       "10  chase card was reported on xx/xx/. however, fr...   \n",
       "11  on xx/xx/, while trying to book a xxxx  xxxx  ...   \n",
       "14  my grand son give me check for {$.} i deposit ...   \n",
       "\n",
       "                                lemmatized complaints  \\\n",
       "1   good morning -PRON- name be xxxx XXXX and -PRO...   \n",
       "2   -PRON- upgrade -PRON- xxxx xxxx card in XX / X...   \n",
       "10  Chase Card be report on XX / xx/2019 . however...   \n",
       "11  on XX / XX/2018 , while try to book a xxxx   x...   \n",
       "14  -PRON- grand son give -PRON- check for { $ 160...   \n",
       "\n",
       "                                complaint_POS_removed  \\\n",
       "1   morning name stop cardmember service debt veri...   \n",
       "2   card agent upgrade anniversary date agent info...   \n",
       "10  report application -pron- identity consent ser...   \n",
       "11  xxxx ticket offer ticket reward card informati...   \n",
       "14  son account account money son check money mone...   \n",
       "\n",
       "                                      Complaint_clean                    Topic  \n",
       "1   morning name stop cardmember service debt veri...  Theft/Dispute Reporting  \n",
       "2   card agent upgrade anniversary date agent info...                   Others  \n",
       "10  report application -pron- identity consent ser...                   Others  \n",
       "11   ticket offer ticket reward card information o...                   Others  \n",
       "14  son account account money son check money mone...    Bank Account Services  "
      ]
     },
     "execution_count": 44,
     "metadata": {},
     "output_type": "execute_result"
    }
   ],
   "source": [
    "df_clean.head()"
   ]
  },
  {
   "cell_type": "markdown",
   "metadata": {
    "id": "7Mu0QBOcJrGH"
   },
   "source": [
    "## Supervised model to predict any new complaints to the relevant Topics.\n",
    "\n",
    "You have now build the model to create the topics for each complaints.Now in the below section you will use them to classify any new complaints.\n",
    "\n",
    "Since you will be using supervised learning technique we have to convert the topic names to numbers(numpy arrays only understand numbers)"
   ]
  },
  {
   "cell_type": "code",
   "execution_count": 45,
   "metadata": {
    "executionInfo": {
     "elapsed": 369,
     "status": "ok",
     "timestamp": 1662894004436,
     "user": {
      "displayName": "mihir mihirpawar",
      "userId": "09074568654888452491"
     },
     "user_tz": -330
    },
    "id": "_U8J3J8wJrGH"
   },
   "outputs": [],
   "source": [
    "#Create the dictionary again of Topic names and Topics\n",
    "\n",
    "Topic_names = {'Bank Account Services':0, 'Others':1, 'Mortgage/Loan':2, 'Credit card or prepaid card':3, 'Theft/Dispute Reporting':4}\n",
    "# Replace Topics with Topic Names\n",
    "df_clean['Topic'] = df_clean['Topic'].map(Topic_names)"
   ]
  },
  {
   "cell_type": "code",
   "execution_count": 46,
   "metadata": {
    "colab": {
     "base_uri": "https://localhost:8080/",
     "height": 988
    },
    "executionInfo": {
     "elapsed": 5,
     "status": "ok",
     "timestamp": 1662894005952,
     "user": {
      "displayName": "mihir mihirpawar",
      "userId": "09074568654888452491"
     },
     "user_tz": -330
    },
    "id": "BWIgJUkQJrGH",
    "outputId": "37d90b20-ceed-42b4-c77b-86cb9dae6cfc"
   },
   "outputs": [
    {
     "data": {
      "text/plain": [
       "(21072, 5)"
      ]
     },
     "execution_count": 46,
     "metadata": {},
     "output_type": "execute_result"
    }
   ],
   "source": [
    "df_clean.shape"
   ]
  },
  {
   "cell_type": "code",
   "execution_count": 47,
   "metadata": {
    "executionInfo": {
     "elapsed": 399,
     "status": "ok",
     "timestamp": 1662894068158,
     "user": {
      "displayName": "mihir mihirpawar",
      "userId": "09074568654888452491"
     },
     "user_tz": -330
    },
    "id": "Xx-FrbkWJrGH"
   },
   "outputs": [],
   "source": [
    "# Keep the columns\"complaint_what_happened\" & \"Topic\" only in the new dataframe --> training_data\n",
    "training_data = df_clean[['complaints','Topic']]"
   ]
  },
  {
   "cell_type": "code",
   "execution_count": 48,
   "metadata": {
    "colab": {
     "base_uri": "https://localhost:8080/",
     "height": 206
    },
    "executionInfo": {
     "elapsed": 390,
     "status": "ok",
     "timestamp": 1662894074924,
     "user": {
      "displayName": "mihir mihirpawar",
      "userId": "09074568654888452491"
     },
     "user_tz": -330
    },
    "id": "lVg2pa12JrGI",
    "outputId": "babd6bb7-0d8f-412b-823d-5e215ed53bde"
   },
   "outputs": [
    {
     "data": {
      "text/html": [
       "<div>\n",
       "<style scoped>\n",
       "    .dataframe tbody tr th:only-of-type {\n",
       "        vertical-align: middle;\n",
       "    }\n",
       "\n",
       "    .dataframe tbody tr th {\n",
       "        vertical-align: top;\n",
       "    }\n",
       "\n",
       "    .dataframe thead th {\n",
       "        text-align: right;\n",
       "    }\n",
       "</style>\n",
       "<table border=\"1\" class=\"dataframe\">\n",
       "  <thead>\n",
       "    <tr style=\"text-align: right;\">\n",
       "      <th></th>\n",
       "      <th>complaints</th>\n",
       "      <th>Topic</th>\n",
       "    </tr>\n",
       "  </thead>\n",
       "  <tbody>\n",
       "    <tr>\n",
       "      <th>1</th>\n",
       "      <td>good morning my name is xxxx xxxx and i apprec...</td>\n",
       "      <td>4</td>\n",
       "    </tr>\n",
       "    <tr>\n",
       "      <th>2</th>\n",
       "      <td>i upgraded my xxxx xxxx card in xx/xx/ and was...</td>\n",
       "      <td>1</td>\n",
       "    </tr>\n",
       "    <tr>\n",
       "      <th>10</th>\n",
       "      <td>chase card was reported on xx/xx/. however, fr...</td>\n",
       "      <td>1</td>\n",
       "    </tr>\n",
       "    <tr>\n",
       "      <th>11</th>\n",
       "      <td>on xx/xx/, while trying to book a xxxx  xxxx  ...</td>\n",
       "      <td>1</td>\n",
       "    </tr>\n",
       "    <tr>\n",
       "      <th>14</th>\n",
       "      <td>my grand son give me check for {$.} i deposit ...</td>\n",
       "      <td>0</td>\n",
       "    </tr>\n",
       "  </tbody>\n",
       "</table>\n",
       "</div>"
      ],
      "text/plain": [
       "                                           complaints  Topic\n",
       "1   good morning my name is xxxx xxxx and i apprec...      4\n",
       "2   i upgraded my xxxx xxxx card in xx/xx/ and was...      1\n",
       "10  chase card was reported on xx/xx/. however, fr...      1\n",
       "11  on xx/xx/, while trying to book a xxxx  xxxx  ...      1\n",
       "14  my grand son give me check for {$.} i deposit ...      0"
      ]
     },
     "execution_count": 48,
     "metadata": {},
     "output_type": "execute_result"
    }
   ],
   "source": [
    "training_data.head()"
   ]
  },
  {
   "cell_type": "markdown",
   "metadata": {
    "id": "280Vbqk-7a8M"
   },
   "source": [
    "####Apply the supervised models on the training data created. In this process, you have to do the following:\n",
    "* Create the vector counts using Count Vectoriser\n",
    "* Transform the word vecotr to tf-idf\n",
    "* Create the train & test data using the train_test_split on the tf-idf & topics\n"
   ]
  },
  {
   "cell_type": "code",
   "execution_count": 50,
   "metadata": {
    "executionInfo": {
     "elapsed": 401,
     "status": "ok",
     "timestamp": 1662894085626,
     "user": {
      "displayName": "mihir mihirpawar",
      "userId": "09074568654888452491"
     },
     "user_tz": -330
    },
    "id": "oUlQpgkzJrGI"
   },
   "outputs": [],
   "source": [
    "# Write your code to get the Vector count\n",
    "count_vect = CountVectorizer()\n",
    "X_train_counts = count_vect.fit_transform(training_data.complaints)\n",
    "\n",
    "# Write your code here to transform the word vector to tf-idf\n",
    "tfidf_transformer = TfidfTransformer()\n",
    "X_train_tfidf = tfidf_transformer.fit_transform(X_train_counts)"
   ]
  },
  {
   "cell_type": "markdown",
   "metadata": {
    "id": "uMU3vj6w-wqL"
   },
   "source": [
    "You have to try atleast 3 models on the train & test data from these options:\n",
    "* Logistic regression\n",
    "* Decision Tree\n",
    "* Random Forest\n",
    "* Naive Bayes (optional)\n",
    "\n",
    "**Using the required evaluation metrics judge the tried models and select the ones performing the best**"
   ]
  },
  {
   "cell_type": "code",
   "execution_count": 51,
   "metadata": {
    "executionInfo": {
     "elapsed": 2,
     "status": "ok",
     "timestamp": 1662894097923,
     "user": {
      "displayName": "mihir mihirpawar",
      "userId": "09074568654888452491"
     },
     "user_tz": -330
    },
    "id": "udLHpPsZJrGI"
   },
   "outputs": [],
   "source": [
    "from sklearn.model_selection import train_test_split\n",
    "from sklearn.linear_model import LogisticRegression\n",
    "from sklearn.tree import DecisionTreeClassifier\n",
    "from sklearn.ensemble import RandomForestClassifier\n",
    "from sklearn.naive_bayes import GaussianNB\n",
    "\n",
    "from sklearn.metrics import classification_report,accuracy_score"
   ]
  },
  {
   "cell_type": "code",
   "execution_count": 52,
   "metadata": {
    "executionInfo": {
     "elapsed": 1526,
     "status": "ok",
     "timestamp": 1662894113541,
     "user": {
      "displayName": "mihir mihirpawar",
      "userId": "09074568654888452491"
     },
     "user_tz": -330
    },
    "id": "N2OznsObJrGP"
   },
   "outputs": [],
   "source": [
    "# Split data into train and test\n",
    "X_train, X_test, y_train, y_test = train_test_split(X_train_tfidf, training_data.Topic, test_size=0.2, random_state=42)"
   ]
  },
  {
   "cell_type": "markdown",
   "metadata": {
    "id": "SqZ1OAtMNs3B"
   },
   "source": [
    "### 1) Logistic Regression"
   ]
  },
  {
   "cell_type": "code",
   "execution_count": 53,
   "metadata": {
    "colab": {
     "base_uri": "https://localhost:8080/"
    },
    "executionInfo": {
     "elapsed": 394,
     "status": "ok",
     "timestamp": 1662894149794,
     "user": {
      "displayName": "mihir mihirpawar",
      "userId": "09074568654888452491"
     },
     "user_tz": -330
    },
    "id": "h_O-Fr4aNnip",
    "outputId": "b87f1e8d-3717-4f80-e8cc-d06ff231e0b6"
   },
   "outputs": [
    {
     "name": "stdout",
     "output_type": "stream",
     "text": [
      "Classification Report:-\n",
      "              precision    recall  f1-score   support\n",
      "\n",
      "           0       0.89      0.92      0.91      1053\n",
      "           1       0.90      0.90      0.90      1015\n",
      "           2       0.93      0.85      0.89       457\n",
      "           3       0.88      0.89      0.89       916\n",
      "           4       0.92      0.91      0.91       774\n",
      "\n",
      "    accuracy                           0.90      4215\n",
      "   macro avg       0.90      0.89      0.90      4215\n",
      "weighted avg       0.90      0.90      0.90      4215\n",
      "\n",
      "Accuracy of Logistic Regression:- 89.92 %\n"
     ]
    }
   ],
   "source": [
    "lr = LogisticRegression().fit(X_train, y_train)\n",
    "predicted_lr = lr.predict(X_test)\n",
    "\n",
    "print(\"Classification Report:-\")\n",
    "print(classification_report(y_test, predicted_lr))\n",
    "\n",
    "accuracy_lr=round(accuracy_score(y_test, predicted_lr),4)*100\n",
    "print(\"Accuracy of Logistic Regression:-\",accuracy_lr,\"%\")"
   ]
  },
  {
   "cell_type": "markdown",
   "metadata": {
    "id": "xjCDnwMAN4nR"
   },
   "source": [
    "### 2) Decision Trees"
   ]
  },
  {
   "cell_type": "code",
   "execution_count": 54,
   "metadata": {
    "colab": {
     "base_uri": "https://localhost:8080/"
    },
    "executionInfo": {
     "elapsed": 376,
     "status": "ok",
     "timestamp": 1662894203697,
     "user": {
      "displayName": "mihir mihirpawar",
      "userId": "09074568654888452491"
     },
     "user_tz": -330
    },
    "id": "-0nWlCNtNwsU",
    "outputId": "a6c61d09-42a8-4267-e5dc-fce5b801c079"
   },
   "outputs": [
    {
     "name": "stdout",
     "output_type": "stream",
     "text": [
      "Classification Report:-\n",
      "              precision    recall  f1-score   support\n",
      "\n",
      "           0       0.78      0.79      0.79      1053\n",
      "           1       0.79      0.78      0.78      1015\n",
      "           2       0.70      0.73      0.72       457\n",
      "           3       0.72      0.73      0.73       916\n",
      "           4       0.77      0.74      0.76       774\n",
      "\n",
      "    accuracy                           0.76      4215\n",
      "   macro avg       0.75      0.75      0.75      4215\n",
      "weighted avg       0.76      0.76      0.76      4215\n",
      "\n",
      "Accuracy of Decision Trees- 75.87 %\n"
     ]
    }
   ],
   "source": [
    "dt = DecisionTreeClassifier()\n",
    "dt.fit(X_train, y_train)\n",
    "\n",
    "predicted_dt = dt.predict(X_test)\n",
    "\n",
    "print(\"Classification Report:-\")\n",
    "print(classification_report(y_test, predicted_dt))\n",
    "\n",
    "accuracy_dt=round(accuracy_score(y_test, predicted_dt),4)*100\n",
    "print(\"Accuracy of Decision Trees-\",accuracy_dt,\"%\")"
   ]
  },
  {
   "cell_type": "markdown",
   "metadata": {
    "id": "gJIK4L-nOCai"
   },
   "source": [
    "### 3) Random Forest"
   ]
  },
  {
   "cell_type": "code",
   "execution_count": 55,
   "metadata": {
    "colab": {
     "base_uri": "https://localhost:8080/"
    },
    "executionInfo": {
     "elapsed": 382,
     "status": "ok",
     "timestamp": 1662894236346,
     "user": {
      "displayName": "mihir mihirpawar",
      "userId": "09074568654888452491"
     },
     "user_tz": -330
    },
    "id": "-15GPNoEN90i",
    "outputId": "80a758ff-ebd2-4d10-e55e-03c42fd669ba"
   },
   "outputs": [
    {
     "name": "stdout",
     "output_type": "stream",
     "text": [
      "Classification Report:-\n",
      "              precision    recall  f1-score   support\n",
      "\n",
      "           0       0.78      0.92      0.84      1053\n",
      "           1       0.80      0.83      0.82      1015\n",
      "           2       0.88      0.46      0.61       457\n",
      "           3       0.80      0.81      0.80       916\n",
      "           4       0.86      0.83      0.85       774\n",
      "\n",
      "    accuracy                           0.81      4215\n",
      "   macro avg       0.82      0.77      0.78      4215\n",
      "weighted avg       0.81      0.81      0.80      4215\n",
      "\n",
      "Accuracy of Random Forest- 80.76 %\n"
     ]
    }
   ],
   "source": [
    "rfc = RandomForestClassifier()\n",
    "rfc.fit(X_train, y_train)\n",
    "\n",
    "predicted_rf = rfc.predict(X_test)\n",
    "\n",
    "print(\"Classification Report:-\")\n",
    "print(classification_report(y_test, predicted_rf))\n",
    "\n",
    "accuracy_rf=round(accuracy_score(y_test, predicted_rf),4)*100\n",
    "print(\"Accuracy of Random Forest-\",accuracy_rf,\"%\")"
   ]
  },
  {
   "cell_type": "markdown",
   "metadata": {
    "id": "FMPqSEPUOJYp"
   },
   "source": [
    "### 4) Gaussian Naive Bayes"
   ]
  },
  {
   "cell_type": "code",
   "execution_count": 56,
   "metadata": {
    "colab": {
     "base_uri": "https://localhost:8080/"
    },
    "executionInfo": {
     "elapsed": 413,
     "status": "ok",
     "timestamp": 1662894273189,
     "user": {
      "displayName": "mihir mihirpawar",
      "userId": "09074568654888452491"
     },
     "user_tz": -330
    },
    "id": "m1t0T-jcOFzj",
    "outputId": "4451c437-c2d4-4785-af2f-57c48b9147ec"
   },
   "outputs": [
    {
     "name": "stdout",
     "output_type": "stream",
     "text": [
      "Classification Report:-\n",
      "              precision    recall  f1-score   support\n",
      "\n",
      "           0       0.41      0.25      0.31      1053\n",
      "           1       0.38      0.29      0.33      1015\n",
      "           2       0.14      0.46      0.22       457\n",
      "           3       0.42      0.29      0.34       916\n",
      "           4       0.46      0.43      0.44       774\n",
      "\n",
      "    accuracy                           0.32      4215\n",
      "   macro avg       0.36      0.34      0.33      4215\n",
      "weighted avg       0.39      0.32      0.34      4215\n",
      "\n",
      "Accuracy of Gaussian Naive Bayes- 32.31 %\n"
     ]
    }
   ],
   "source": [
    "nb = GaussianNB().fit(X_train.toarray(), y_train)\n",
    "predicted_nb = nb.predict(X_test.toarray())\n",
    "\n",
    "print(\"Classification Report:-\")\n",
    "print(classification_report(y_test, predicted_nb))\n",
    "\n",
    "accuracy_nb=round(accuracy_score(y_test, predicted_nb),4)*100\n",
    "print(\"Accuracy of Gaussian Naive Bayes-\",accuracy_nb,\"%\")"
   ]
  },
  {
   "cell_type": "markdown",
   "metadata": {
    "id": "riDCpfzNOSYB"
   },
   "source": [
    "### Model Summary"
   ]
  },
  {
   "cell_type": "code",
   "execution_count": 57,
   "metadata": {
    "colab": {
     "base_uri": "https://localhost:8080/",
     "height": 175
    },
    "executionInfo": {
     "elapsed": 389,
     "status": "ok",
     "timestamp": 1662894298700,
     "user": {
      "displayName": "mihir mihirpawar",
      "userId": "09074568654888452491"
     },
     "user_tz": -330
    },
    "id": "8YE0Lba8OO0E",
    "outputId": "15ee1237-0e65-4d5e-a905-bcd5fef61752"
   },
   "outputs": [
    {
     "data": {
      "text/html": [
       "<div>\n",
       "<style scoped>\n",
       "    .dataframe tbody tr th:only-of-type {\n",
       "        vertical-align: middle;\n",
       "    }\n",
       "\n",
       "    .dataframe tbody tr th {\n",
       "        vertical-align: top;\n",
       "    }\n",
       "\n",
       "    .dataframe thead th {\n",
       "        text-align: right;\n",
       "    }\n",
       "</style>\n",
       "<table border=\"1\" class=\"dataframe\">\n",
       "  <thead>\n",
       "    <tr style=\"text-align: right;\">\n",
       "      <th></th>\n",
       "      <th>Model</th>\n",
       "      <th>Accuracy (in %)</th>\n",
       "    </tr>\n",
       "  </thead>\n",
       "  <tbody>\n",
       "    <tr>\n",
       "      <th>0</th>\n",
       "      <td>Logistic Regression</td>\n",
       "      <td>89.92</td>\n",
       "    </tr>\n",
       "    <tr>\n",
       "      <th>1</th>\n",
       "      <td>Decision Trees</td>\n",
       "      <td>75.87</td>\n",
       "    </tr>\n",
       "    <tr>\n",
       "      <th>2</th>\n",
       "      <td>Random Forest</td>\n",
       "      <td>80.76</td>\n",
       "    </tr>\n",
       "    <tr>\n",
       "      <th>3</th>\n",
       "      <td>Gaussian Naive Bayes</td>\n",
       "      <td>32.31</td>\n",
       "    </tr>\n",
       "  </tbody>\n",
       "</table>\n",
       "</div>"
      ],
      "text/plain": [
       "                  Model  Accuracy (in %)\n",
       "0   Logistic Regression            89.92\n",
       "1        Decision Trees            75.87\n",
       "2         Random Forest            80.76\n",
       "3  Gaussian Naive Bayes            32.31"
      ]
     },
     "execution_count": 57,
     "metadata": {},
     "output_type": "execute_result"
    }
   ],
   "source": [
    "model_summary_df=pd.DataFrame({'Model':['Logistic Regression','Decision Trees','Random Forest','Gaussian Naive Bayes'],\n",
    "                               'Accuracy (in %)':[accuracy_lr,accuracy_dt,accuracy_rf,accuracy_nb]})\n",
    "\n",
    "model_summary_df"
   ]
  },
  {
   "cell_type": "markdown",
   "metadata": {
    "id": "YdvRE7gUOZex"
   },
   "source": [
    "##### Thus by comapring the applied Machine Learning Algorithms, we can conclude that Logistic Regression Performs better than the other models"
   ]
  },
  {
   "cell_type": "markdown",
   "metadata": {
    "id": "jdEFng9xOgda"
   },
   "source": [
    "### Infering the best model"
   ]
  },
  {
   "cell_type": "code",
   "execution_count": 58,
   "metadata": {
    "executionInfo": {
     "elapsed": 367,
     "status": "ok",
     "timestamp": 1662894361327,
     "user": {
      "displayName": "mihir mihirpawar",
      "userId": "09074568654888452491"
     },
     "user_tz": -330
    },
    "id": "ofCijx3SOVDS"
   },
   "outputs": [],
   "source": [
    "def predict_topic(text):\n",
    "    Topic_names = {0:'Bank account services', 1:'Others', 2:'Mortgage/Loan', 3:'Credit card or prepaid card', 4:'Theft/Dispute Reporting'}\n",
    "    X_new_counts = count_vect.transform(text)\n",
    "    X_new_tfidf = tfidf_transformer.transform(X_new_counts)\n",
    "    predicted = lr.predict(X_new_tfidf)\n",
    "    return Topic_names[predicted[0]]"
   ]
  },
  {
   "cell_type": "code",
   "execution_count": 59,
   "metadata": {
    "colab": {
     "base_uri": "https://localhost:8080/",
     "height": 332
    },
    "executionInfo": {
     "elapsed": 394,
     "status": "ok",
     "timestamp": 1662894374316,
     "user": {
      "displayName": "mihir mihirpawar",
      "userId": "09074568654888452491"
     },
     "user_tz": -330
    },
    "id": "8GI5H97-OkWP",
    "outputId": "8a9cc157-6382-44c7-9aba-2e34f455dfa0"
   },
   "outputs": [
    {
     "data": {
      "text/html": [
       "<div>\n",
       "<style scoped>\n",
       "    .dataframe tbody tr th:only-of-type {\n",
       "        vertical-align: middle;\n",
       "    }\n",
       "\n",
       "    .dataframe tbody tr th {\n",
       "        vertical-align: top;\n",
       "    }\n",
       "\n",
       "    .dataframe thead th {\n",
       "        text-align: right;\n",
       "    }\n",
       "</style>\n",
       "<table border=\"1\" class=\"dataframe\">\n",
       "  <thead>\n",
       "    <tr style=\"text-align: right;\">\n",
       "      <th></th>\n",
       "      <th>complaints</th>\n",
       "    </tr>\n",
       "  </thead>\n",
       "  <tbody>\n",
       "    <tr>\n",
       "      <th>0</th>\n",
       "      <td>To whom it may concern, Chase bank charged wro...</td>\n",
       "    </tr>\n",
       "    <tr>\n",
       "      <th>1</th>\n",
       "      <td>Chase is marketing credit cards to those of us...</td>\n",
       "    </tr>\n",
       "    <tr>\n",
       "      <th>2</th>\n",
       "      <td>What is the procedure to know my CIBIL score?</td>\n",
       "    </tr>\n",
       "    <tr>\n",
       "      <th>3</th>\n",
       "      <td>I can not get from chase who services my mortg...</td>\n",
       "    </tr>\n",
       "    <tr>\n",
       "      <th>4</th>\n",
       "      <td>The bill amount of my credit card was debited ...</td>\n",
       "    </tr>\n",
       "    <tr>\n",
       "      <th>5</th>\n",
       "      <td>I want to open a salary account at your downto...</td>\n",
       "    </tr>\n",
       "    <tr>\n",
       "      <th>6</th>\n",
       "      <td>Yesterday, I received a fraudulent email regar...</td>\n",
       "    </tr>\n",
       "    <tr>\n",
       "      <th>7</th>\n",
       "      <td>Where are the bank branches in the city of Mum...</td>\n",
       "    </tr>\n",
       "    <tr>\n",
       "      <th>8</th>\n",
       "      <td>unwanted service activated and money deducted ...</td>\n",
       "    </tr>\n",
       "  </tbody>\n",
       "</table>\n",
       "</div>"
      ],
      "text/plain": [
       "                                          complaints\n",
       "0  To whom it may concern, Chase bank charged wro...\n",
       "1  Chase is marketing credit cards to those of us...\n",
       "2      What is the procedure to know my CIBIL score?\n",
       "3  I can not get from chase who services my mortg...\n",
       "4  The bill amount of my credit card was debited ...\n",
       "5  I want to open a salary account at your downto...\n",
       "6  Yesterday, I received a fraudulent email regar...\n",
       "7  Where are the bank branches in the city of Mum...\n",
       "8  unwanted service activated and money deducted ..."
      ]
     },
     "execution_count": 59,
     "metadata": {},
     "output_type": "execute_result"
    }
   ],
   "source": [
    "df_complaints = pd.DataFrame({'complaints': [\"To whom it may concern, Chase bank charged wrongly overdraft fees, I have alert of low balance or unsuficent fee balance and always deposit immediatly to cover transactions if needed but Chase always changed the order and charged me overdraft fee anyway. when you call they said their per their guidelines they don't refund more then 2 overdrawft doesn't matter bank fault or not.Taken {$34.00} from people is money just because you can is not Ok.See attached documents. When Chase refund, they always find the way to take back what they refunded in first place.\",\n",
    "                                            \"Chase is marketing credit cards to those of us with good credit like it's going out of style. Be careful - the marketing is not clear. IF you already have a SWA Chase personal card, do not apply for the new one online. This has sent me through a XXXX triangle, wasting my time and therefore money.It appears in the middle of XX/XX/2018, Chase expanded their undisclosed 5/24 rule to include ALL co-branded cards, not just SWA, yet the marketing machine continues to ignore this policy and the Agents on the phone are not well trained. I am contacting the credit bureau b/c two of the cards opened are not mine - that is the silver lining here. However, the issue with incessant marketing of their branded cards to customers, plus this confusing 5/24 rule and lack of Agent phone training, is false advertising. The information is still relatively opaque, as Chase never comments on the 5/24 rule, but multiple reader and community data points suggest denials due to 5/24 for cards previously exempt. CFPB staff, please help educate consumers and hold the big banks accountable for deceptive trade practices. I do not believe this is intentional on Chase 's part, but the second to last Agent did encourage me to file a complaint here, so be it.\",\n",
    "                                            \"What is the procedure to know my CIBIL score?\",\n",
    "                                            \"I can not get from chase who services my mortgage, who owns it and who has original loan docs\", \n",
    "                                  \"The bill amount of my credit card was debited twice. Please look into the matter and resolve at the earliest.\",\n",
    "                                  \"I want to open a salary account at your downtown branch. Please provide me the procedure.\",\n",
    "                                  \"Yesterday, I received a fraudulent email regarding renewal of my services.\",\n",
    "                                            \"Where are the bank branches in the city of Mumbai?\",\n",
    "                                            \"unwanted service activated and money deducted automatically\"]})\n",
    "df_complaints"
   ]
  },
  {
   "cell_type": "code",
   "execution_count": 60,
   "metadata": {
    "colab": {
     "base_uri": "https://localhost:8080/",
     "height": 332
    },
    "executionInfo": {
     "elapsed": 378,
     "status": "ok",
     "timestamp": 1662894384468,
     "user": {
      "displayName": "mihir mihirpawar",
      "userId": "09074568654888452491"
     },
     "user_tz": -330
    },
    "id": "j3-r77zVOndB",
    "outputId": "4c15a306-22c0-4474-a511-0b4e26fe729e"
   },
   "outputs": [
    {
     "data": {
      "text/html": [
       "<div>\n",
       "<style scoped>\n",
       "    .dataframe tbody tr th:only-of-type {\n",
       "        vertical-align: middle;\n",
       "    }\n",
       "\n",
       "    .dataframe tbody tr th {\n",
       "        vertical-align: top;\n",
       "    }\n",
       "\n",
       "    .dataframe thead th {\n",
       "        text-align: right;\n",
       "    }\n",
       "</style>\n",
       "<table border=\"1\" class=\"dataframe\">\n",
       "  <thead>\n",
       "    <tr style=\"text-align: right;\">\n",
       "      <th></th>\n",
       "      <th>complaints</th>\n",
       "      <th>Predicted Topic</th>\n",
       "    </tr>\n",
       "  </thead>\n",
       "  <tbody>\n",
       "    <tr>\n",
       "      <th>0</th>\n",
       "      <td>To whom it may concern, Chase bank charged wro...</td>\n",
       "      <td>Credit card or prepaid card</td>\n",
       "    </tr>\n",
       "    <tr>\n",
       "      <th>1</th>\n",
       "      <td>Chase is marketing credit cards to those of us...</td>\n",
       "      <td>Others</td>\n",
       "    </tr>\n",
       "    <tr>\n",
       "      <th>2</th>\n",
       "      <td>What is the procedure to know my CIBIL score?</td>\n",
       "      <td>Others</td>\n",
       "    </tr>\n",
       "    <tr>\n",
       "      <th>3</th>\n",
       "      <td>I can not get from chase who services my mortg...</td>\n",
       "      <td>Theft/Dispute Reporting</td>\n",
       "    </tr>\n",
       "    <tr>\n",
       "      <th>4</th>\n",
       "      <td>The bill amount of my credit card was debited ...</td>\n",
       "      <td>Others</td>\n",
       "    </tr>\n",
       "    <tr>\n",
       "      <th>5</th>\n",
       "      <td>I want to open a salary account at your downto...</td>\n",
       "      <td>Bank account services</td>\n",
       "    </tr>\n",
       "    <tr>\n",
       "      <th>6</th>\n",
       "      <td>Yesterday, I received a fraudulent email regar...</td>\n",
       "      <td>Credit card or prepaid card</td>\n",
       "    </tr>\n",
       "    <tr>\n",
       "      <th>7</th>\n",
       "      <td>Where are the bank branches in the city of Mum...</td>\n",
       "      <td>Bank account services</td>\n",
       "    </tr>\n",
       "    <tr>\n",
       "      <th>8</th>\n",
       "      <td>unwanted service activated and money deducted ...</td>\n",
       "      <td>Bank account services</td>\n",
       "    </tr>\n",
       "  </tbody>\n",
       "</table>\n",
       "</div>"
      ],
      "text/plain": [
       "                                          complaints  \\\n",
       "0  To whom it may concern, Chase bank charged wro...   \n",
       "1  Chase is marketing credit cards to those of us...   \n",
       "2      What is the procedure to know my CIBIL score?   \n",
       "3  I can not get from chase who services my mortg...   \n",
       "4  The bill amount of my credit card was debited ...   \n",
       "5  I want to open a salary account at your downto...   \n",
       "6  Yesterday, I received a fraudulent email regar...   \n",
       "7  Where are the bank branches in the city of Mum...   \n",
       "8  unwanted service activated and money deducted ...   \n",
       "\n",
       "               Predicted Topic  \n",
       "0  Credit card or prepaid card  \n",
       "1                       Others  \n",
       "2                       Others  \n",
       "3      Theft/Dispute Reporting  \n",
       "4                       Others  \n",
       "5        Bank account services  \n",
       "6  Credit card or prepaid card  \n",
       "7        Bank account services  \n",
       "8        Bank account services  "
      ]
     },
     "execution_count": 60,
     "metadata": {},
     "output_type": "execute_result"
    }
   ],
   "source": [
    "df_complaints['Predicted Topic'] = df_complaints['complaints'].apply(lambda x: predict_topic([x]))\n",
    "df_complaints"
   ]
  }
 ],
 "metadata": {
  "accelerator": "GPU",
  "colab": {
   "collapsed_sections": [],
   "provenance": []
  },
  "gpuClass": "standard",
  "kernelspec": {
   "display_name": "Python 3",
   "language": "python",
   "name": "python3"
  },
  "language_info": {
   "codemirror_mode": {
    "name": "ipython",
    "version": 3
   },
   "file_extension": ".py",
   "mimetype": "text/x-python",
   "name": "python",
   "nbconvert_exporter": "python",
   "pygments_lexer": "ipython3",
   "version": "3.7.6"
  }
 },
 "nbformat": 4,
 "nbformat_minor": 1
}
